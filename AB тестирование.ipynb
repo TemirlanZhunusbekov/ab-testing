{
 "cells": [
  {
   "cell_type": "markdown",
   "metadata": {},
   "source": [
    "# Оглавление\n",
    "1. [Описание данных](#step1)  \n",
    "2. [Описание проекта](#step2)\n",
    "3. [Анализ и предобработка данных](#step3)\n",
    "3. [Часть 1. Приоритизация гипотез](#step4)\n",
    "4. [Часть 2. Анализ A/B-теста](#step5)"
   ]
  },
  {
   "cell_type": "markdown",
   "metadata": {},
   "source": [
    "# Описание данных <a id=\"step1\"></a>\n",
    "\n",
    "#### Данные для первой части:\n",
    "\n",
    "##### Таблица hypothesis:\n",
    "1. Hypothesis — краткое описание гипотезы;\n",
    "2. Reach — охват пользователей по 10-балльной шкале;\n",
    "4. Efforts — затраты ресурсов на проверку гипотезы по 10-балльной шкале. Чем больше значение Efforts, тем дороже проверка гипотезы.\n",
    "    \n",
    "#### Данные для второй части:\n",
    "\n",
    "##### Таблица orders:\n",
    "1. transactionId — идентификатор заказа;\n",
    "2. visitorId — идентификатор пользователя, совершившего заказ;\n",
    "3. date — дата, когда был совершён заказ;\n",
    "4. revenue — выручка заказа;\n",
    "5. group — группа A/B-теста, в которую попал заказ.\n",
    "    \n",
    "##### Таблица visitors:\n",
    "1. date — дата;\n",
    "2. group — группа A/B-теста;\n",
    "3. visitors — количество пользователей в указанную дату в указанной группе A/B-теста"
   ]
  },
  {
   "cell_type": "markdown",
   "metadata": {},
   "source": [
    "# Описание проекта <a id=\"step2\"></a>\n",
    "Вы — аналитик крупного интернет-магазина. Вместе с отделом маркетинга вы подготовили список гипотез для увеличения выручки.\n",
    "Приоритизируйте гипотезы, запустите A/B-тест и проанализируйте результаты.\n",
    "\n",
    "### Приоритизация гипотез\n",
    "В файле `/datasets/hypothesis.csv` 9 гипотез по увеличению выручки интернет-магазина с указанными параметрами Reach, Impact, Confidence, Effort.\n",
    "\n",
    "#### Задача\n",
    "1. Примените фреймворк ICE для приоритизации гипотез. Отсортируйте их по убыванию приоритета.\n",
    "2. Примените фреймворк RICE для приоритизации гипотез. Отсортируйте их по убыванию приоритета.\n",
    "3. Укажите, как изменилась приоритизация гипотез при применении RICE вместо ICE. Объясните, почему так произошло.\n",
    "\n",
    "\n",
    "### Анализ A/B-теста\n",
    "Вы провели A/B-тест и получили результаты, которые описаны в файлах /datasets/orders.csv и /datasets/visitors.csv.\n",
    "\n",
    "#### Задача\n",
    "Проанализируйте A/B-тест:\n",
    "1. Постройте график кумулятивной выручки по группам. Сделайте выводы и предположения.\n",
    "2. Постройте график кумулятивного среднего чека по группам. Сделайте выводы и предположения.\n",
    "3. Постройте график относительного изменения кумулятивного среднего чека группы B к группе A. Сделайте выводы и предположения.\n",
    "4. Постройте график кумулятивной конверсии по группам. Сделайте выводы и предположения.\n",
    "5. Постройте график относительного изменения кумулятивной конверсии группы B к группе A. Сделайте выводы и предположения.\n",
    "6. Постройте точечный график количества заказов по пользователям. Сделайте выводы и предположения.\n",
    "7. Посчитайте 95-й и 99-й перцентили количества заказов на пользователя. Выберите границу для определения аномальных пользователей.\n",
    "8. Постройте точечный график стоимостей заказов. Сделайте выводы и предположения.\n",
    "9. Посчитайте 95-й и 99-й перцентили стоимости заказов. Выберите границу для определения аномальных заказов.\n",
    "10. Посчитайте статистическую значимость различий в конверсии между группами по «сырым» данным. Сделайте выводы и предположения.\n",
    "11. Посчитайте статистическую значимость различий в среднем чеке заказа между группами по «сырым» данным. Сделайте выводы и предположения.\n",
    "12. Посчитайте статистическую значимость различий в конверсии между группами по «очищенным» данным. Сделайте выводы и предположения.\n",
    "13. Посчитайте статистическую значимость различий в среднем чеке заказа между группами по «очищенным» данным. Сделайте выводы и предположения.\n",
    "14. Примите решение по результатам теста и объясните его. Варианты решений: 1. Остановить тест, зафиксировать победу одной из групп. 2. Остановить тест, зафиксировать отсутствие различий между группами. 3. Продолжить тест."
   ]
  },
  {
   "cell_type": "markdown",
   "metadata": {},
   "source": [
    "# Анализ и предобработка данных <a id=\"step3\"></a>"
   ]
  },
  {
   "cell_type": "code",
   "execution_count": 1,
   "metadata": {},
   "outputs": [],
   "source": [
    "import pandas as pd\n",
    "from matplotlib import pyplot as plt\n",
    "import numpy as np\n",
    "from datetime import datetime, timedelta\n",
    "import datetime as dt\n",
    "import scipy.stats as stats"
   ]
  },
  {
   "cell_type": "code",
   "execution_count": 2,
   "metadata": {},
   "outputs": [
    {
     "name": "stdout",
     "output_type": "stream",
     "text": [
      "<class 'pandas.core.frame.DataFrame'>\n",
      "RangeIndex: 9 entries, 0 to 8\n",
      "Data columns (total 5 columns):\n",
      " #   Column      Non-Null Count  Dtype \n",
      "---  ------      --------------  ----- \n",
      " 0   Hypothesis  9 non-null      object\n",
      " 1   Reach       9 non-null      int64 \n",
      " 2   Impact      9 non-null      int64 \n",
      " 3   Confidence  9 non-null      int64 \n",
      " 4   Efforts     9 non-null      int64 \n",
      "dtypes: int64(4), object(1)\n",
      "memory usage: 488.0+ bytes\n",
      "None\n"
     ]
    },
    {
     "data": {
      "text/html": [
       "<div>\n",
       "<style scoped>\n",
       "    .dataframe tbody tr th:only-of-type {\n",
       "        vertical-align: middle;\n",
       "    }\n",
       "\n",
       "    .dataframe tbody tr th {\n",
       "        vertical-align: top;\n",
       "    }\n",
       "\n",
       "    .dataframe thead th {\n",
       "        text-align: right;\n",
       "    }\n",
       "</style>\n",
       "<table border=\"1\" class=\"dataframe\">\n",
       "  <thead>\n",
       "    <tr style=\"text-align: right;\">\n",
       "      <th></th>\n",
       "      <th>Hypothesis</th>\n",
       "      <th>Reach</th>\n",
       "      <th>Impact</th>\n",
       "      <th>Confidence</th>\n",
       "      <th>Efforts</th>\n",
       "    </tr>\n",
       "  </thead>\n",
       "  <tbody>\n",
       "    <tr>\n",
       "      <th>0</th>\n",
       "      <td>Добавить два новых канала привлечения трафика, что позволит привлекать на 30% больше пользователей</td>\n",
       "      <td>3</td>\n",
       "      <td>10</td>\n",
       "      <td>8</td>\n",
       "      <td>6</td>\n",
       "    </tr>\n",
       "    <tr>\n",
       "      <th>1</th>\n",
       "      <td>Запустить собственную службу доставки, что сократит срок доставки заказов</td>\n",
       "      <td>2</td>\n",
       "      <td>5</td>\n",
       "      <td>4</td>\n",
       "      <td>10</td>\n",
       "    </tr>\n",
       "    <tr>\n",
       "      <th>2</th>\n",
       "      <td>Добавить блоки рекомендаций товаров на сайт интернет магазина, чтобы повысить конверсию и средний чек за...</td>\n",
       "      <td>8</td>\n",
       "      <td>3</td>\n",
       "      <td>7</td>\n",
       "      <td>3</td>\n",
       "    </tr>\n",
       "    <tr>\n",
       "      <th>3</th>\n",
       "      <td>Изменить структура категорий, что увеличит конверсию, т.к. пользователи быстрее найдут нужный товар</td>\n",
       "      <td>8</td>\n",
       "      <td>3</td>\n",
       "      <td>3</td>\n",
       "      <td>8</td>\n",
       "    </tr>\n",
       "    <tr>\n",
       "      <th>4</th>\n",
       "      <td>Изменить цвет фона главной страницы, чтобы увеличить вовлеченность пользователей</td>\n",
       "      <td>3</td>\n",
       "      <td>1</td>\n",
       "      <td>1</td>\n",
       "      <td>1</td>\n",
       "    </tr>\n",
       "    <tr>\n",
       "      <th>5</th>\n",
       "      <td>Добавить страницу отзывов клиентов о магазине, что позволит увеличить количество заказов</td>\n",
       "      <td>3</td>\n",
       "      <td>2</td>\n",
       "      <td>2</td>\n",
       "      <td>3</td>\n",
       "    </tr>\n",
       "    <tr>\n",
       "      <th>6</th>\n",
       "      <td>Показать на главной странице баннеры с актуальными акциями и распродажами, чтобы увеличить конверсию</td>\n",
       "      <td>5</td>\n",
       "      <td>3</td>\n",
       "      <td>8</td>\n",
       "      <td>3</td>\n",
       "    </tr>\n",
       "    <tr>\n",
       "      <th>7</th>\n",
       "      <td>Добавить форму подписки на все основные страницы, чтобы собрать базу клиентов для email-рассылок</td>\n",
       "      <td>10</td>\n",
       "      <td>7</td>\n",
       "      <td>8</td>\n",
       "      <td>5</td>\n",
       "    </tr>\n",
       "    <tr>\n",
       "      <th>8</th>\n",
       "      <td>Запустить акцию, дающую скидку на товар в день рождения</td>\n",
       "      <td>1</td>\n",
       "      <td>9</td>\n",
       "      <td>9</td>\n",
       "      <td>5</td>\n",
       "    </tr>\n",
       "  </tbody>\n",
       "</table>\n",
       "</div>"
      ],
      "text/plain": [
       "                                                                                                    Hypothesis  \\\n",
       "0           Добавить два новых канала привлечения трафика, что позволит привлекать на 30% больше пользователей   \n",
       "1                                    Запустить собственную службу доставки, что сократит срок доставки заказов   \n",
       "2  Добавить блоки рекомендаций товаров на сайт интернет магазина, чтобы повысить конверсию и средний чек за...   \n",
       "3          Изменить структура категорий, что увеличит конверсию, т.к. пользователи быстрее найдут нужный товар   \n",
       "4                             Изменить цвет фона главной страницы, чтобы увеличить вовлеченность пользователей   \n",
       "5                     Добавить страницу отзывов клиентов о магазине, что позволит увеличить количество заказов   \n",
       "6         Показать на главной странице баннеры с актуальными акциями и распродажами, чтобы увеличить конверсию   \n",
       "7             Добавить форму подписки на все основные страницы, чтобы собрать базу клиентов для email-рассылок   \n",
       "8                                                      Запустить акцию, дающую скидку на товар в день рождения   \n",
       "\n",
       "   Reach  Impact  Confidence  Efforts  \n",
       "0      3      10           8        6  \n",
       "1      2       5           4       10  \n",
       "2      8       3           7        3  \n",
       "3      8       3           3        8  \n",
       "4      3       1           1        1  \n",
       "5      3       2           2        3  \n",
       "6      5       3           8        3  \n",
       "7     10       7           8        5  \n",
       "8      1       9           9        5  "
      ]
     },
     "metadata": {},
     "output_type": "display_data"
    }
   ],
   "source": [
    "hypothesis = pd.read_csv('/datasets/hypothesis.csv')\n",
    "print(hypothesis.info())\n",
    "pd.options.display.max_colwidth = int(hypothesis['Hypothesis'].str.len().max())\n",
    "display(hypothesis)"
   ]
  },
  {
   "cell_type": "code",
   "execution_count": 3,
   "metadata": {},
   "outputs": [],
   "source": [
    "hypothesis.columns = hypothesis.columns.str.lower()"
   ]
  },
  {
   "cell_type": "code",
   "execution_count": 4,
   "metadata": {},
   "outputs": [
    {
     "data": {
      "text/html": [
       "<div>\n",
       "<style scoped>\n",
       "    .dataframe tbody tr th:only-of-type {\n",
       "        vertical-align: middle;\n",
       "    }\n",
       "\n",
       "    .dataframe tbody tr th {\n",
       "        vertical-align: top;\n",
       "    }\n",
       "\n",
       "    .dataframe thead th {\n",
       "        text-align: right;\n",
       "    }\n",
       "</style>\n",
       "<table border=\"1\" class=\"dataframe\">\n",
       "  <thead>\n",
       "    <tr style=\"text-align: right;\">\n",
       "      <th></th>\n",
       "      <th>transactionId</th>\n",
       "      <th>visitorId</th>\n",
       "      <th>date</th>\n",
       "      <th>revenue</th>\n",
       "      <th>group</th>\n",
       "    </tr>\n",
       "  </thead>\n",
       "  <tbody>\n",
       "    <tr>\n",
       "      <th>0</th>\n",
       "      <td>3667963787</td>\n",
       "      <td>3312258926</td>\n",
       "      <td>2019-08-15</td>\n",
       "      <td>1650</td>\n",
       "      <td>B</td>\n",
       "    </tr>\n",
       "    <tr>\n",
       "      <th>1</th>\n",
       "      <td>2804400009</td>\n",
       "      <td>3642806036</td>\n",
       "      <td>2019-08-15</td>\n",
       "      <td>730</td>\n",
       "      <td>B</td>\n",
       "    </tr>\n",
       "    <tr>\n",
       "      <th>2</th>\n",
       "      <td>2961555356</td>\n",
       "      <td>4069496402</td>\n",
       "      <td>2019-08-15</td>\n",
       "      <td>400</td>\n",
       "      <td>A</td>\n",
       "    </tr>\n",
       "    <tr>\n",
       "      <th>3</th>\n",
       "      <td>3797467345</td>\n",
       "      <td>1196621759</td>\n",
       "      <td>2019-08-15</td>\n",
       "      <td>9759</td>\n",
       "      <td>B</td>\n",
       "    </tr>\n",
       "    <tr>\n",
       "      <th>4</th>\n",
       "      <td>2282983706</td>\n",
       "      <td>2322279887</td>\n",
       "      <td>2019-08-15</td>\n",
       "      <td>2308</td>\n",
       "      <td>B</td>\n",
       "    </tr>\n",
       "  </tbody>\n",
       "</table>\n",
       "</div>"
      ],
      "text/plain": [
       "   transactionId   visitorId        date  revenue group\n",
       "0     3667963787  3312258926  2019-08-15     1650     B\n",
       "1     2804400009  3642806036  2019-08-15      730     B\n",
       "2     2961555356  4069496402  2019-08-15      400     A\n",
       "3     3797467345  1196621759  2019-08-15     9759     B\n",
       "4     2282983706  2322279887  2019-08-15     2308     B"
      ]
     },
     "metadata": {},
     "output_type": "display_data"
    }
   ],
   "source": [
    "orders = pd.read_csv('/datasets/orders.csv')\n",
    "display(orders.head())"
   ]
  },
  {
   "cell_type": "code",
   "execution_count": 5,
   "metadata": {},
   "outputs": [
    {
     "data": {
      "text/html": [
       "<div>\n",
       "<style scoped>\n",
       "    .dataframe tbody tr th:only-of-type {\n",
       "        vertical-align: middle;\n",
       "    }\n",
       "\n",
       "    .dataframe tbody tr th {\n",
       "        vertical-align: top;\n",
       "    }\n",
       "\n",
       "    .dataframe thead th {\n",
       "        text-align: right;\n",
       "    }\n",
       "</style>\n",
       "<table border=\"1\" class=\"dataframe\">\n",
       "  <thead>\n",
       "    <tr style=\"text-align: right;\">\n",
       "      <th></th>\n",
       "      <th>date</th>\n",
       "      <th>group</th>\n",
       "      <th>visitors</th>\n",
       "    </tr>\n",
       "  </thead>\n",
       "  <tbody>\n",
       "    <tr>\n",
       "      <th>0</th>\n",
       "      <td>2019-08-01</td>\n",
       "      <td>A</td>\n",
       "      <td>719</td>\n",
       "    </tr>\n",
       "    <tr>\n",
       "      <th>1</th>\n",
       "      <td>2019-08-02</td>\n",
       "      <td>A</td>\n",
       "      <td>619</td>\n",
       "    </tr>\n",
       "    <tr>\n",
       "      <th>2</th>\n",
       "      <td>2019-08-03</td>\n",
       "      <td>A</td>\n",
       "      <td>507</td>\n",
       "    </tr>\n",
       "    <tr>\n",
       "      <th>3</th>\n",
       "      <td>2019-08-04</td>\n",
       "      <td>A</td>\n",
       "      <td>717</td>\n",
       "    </tr>\n",
       "    <tr>\n",
       "      <th>4</th>\n",
       "      <td>2019-08-05</td>\n",
       "      <td>A</td>\n",
       "      <td>756</td>\n",
       "    </tr>\n",
       "  </tbody>\n",
       "</table>\n",
       "</div>"
      ],
      "text/plain": [
       "         date group  visitors\n",
       "0  2019-08-01     A       719\n",
       "1  2019-08-02     A       619\n",
       "2  2019-08-03     A       507\n",
       "3  2019-08-04     A       717\n",
       "4  2019-08-05     A       756"
      ]
     },
     "metadata": {},
     "output_type": "display_data"
    }
   ],
   "source": [
    "visitors = pd.read_csv('/datasets/visitors.csv')\n",
    "display(visitors.head())"
   ]
  },
  {
   "cell_type": "code",
   "execution_count": 6,
   "metadata": {},
   "outputs": [
    {
     "name": "stdout",
     "output_type": "stream",
     "text": [
      "<class 'pandas.core.frame.DataFrame'>\n",
      "RangeIndex: 1197 entries, 0 to 1196\n",
      "Data columns (total 5 columns):\n",
      " #   Column         Non-Null Count  Dtype \n",
      "---  ------         --------------  ----- \n",
      " 0   transactionId  1197 non-null   int64 \n",
      " 1   visitorId      1197 non-null   int64 \n",
      " 2   date           1197 non-null   object\n",
      " 3   revenue        1197 non-null   int64 \n",
      " 4   group          1197 non-null   object\n",
      "dtypes: int64(3), object(2)\n",
      "memory usage: 46.9+ KB\n"
     ]
    }
   ],
   "source": [
    "orders.info()"
   ]
  },
  {
   "cell_type": "code",
   "execution_count": 7,
   "metadata": {},
   "outputs": [
    {
     "name": "stdout",
     "output_type": "stream",
     "text": [
      "<class 'pandas.core.frame.DataFrame'>\n",
      "RangeIndex: 62 entries, 0 to 61\n",
      "Data columns (total 3 columns):\n",
      " #   Column    Non-Null Count  Dtype \n",
      "---  ------    --------------  ----- \n",
      " 0   date      62 non-null     object\n",
      " 1   group     62 non-null     object\n",
      " 2   visitors  62 non-null     int64 \n",
      "dtypes: int64(1), object(2)\n",
      "memory usage: 1.6+ KB\n"
     ]
    }
   ],
   "source": [
    "visitors.info()"
   ]
  },
  {
   "cell_type": "markdown",
   "metadata": {},
   "source": [
    "Пропущенных значений нет"
   ]
  },
  {
   "cell_type": "code",
   "execution_count": 8,
   "metadata": {},
   "outputs": [
    {
     "data": {
      "text/plain": [
       "0"
      ]
     },
     "execution_count": 8,
     "metadata": {},
     "output_type": "execute_result"
    }
   ],
   "source": [
    "orders.duplicated().sum()"
   ]
  },
  {
   "cell_type": "code",
   "execution_count": 9,
   "metadata": {},
   "outputs": [
    {
     "data": {
      "text/plain": [
       "0"
      ]
     },
     "execution_count": 9,
     "metadata": {},
     "output_type": "execute_result"
    }
   ],
   "source": [
    "visitors.duplicated().sum()"
   ]
  },
  {
   "cell_type": "markdown",
   "metadata": {},
   "source": [
    "Дубликатов не обнаружено"
   ]
  },
  {
   "cell_type": "code",
   "execution_count": 10,
   "metadata": {},
   "outputs": [],
   "source": [
    "#Переведем время во временной формат\n",
    "orders['date'] = pd.to_datetime(orders['date'])\n",
    "\n",
    "visitors['date'] = pd.to_datetime(visitors['date'])"
   ]
  },
  {
   "cell_type": "markdown",
   "metadata": {},
   "source": [
    "Предстоит работать с данными по двум группам (А и В). Все данные приведены к нужному формату, дубликатов и пропусков нет"
   ]
  },
  {
   "cell_type": "markdown",
   "metadata": {},
   "source": [
    "# Часть 1. Приоритизация гипотез <a id=\"step4\"></a>"
   ]
  },
  {
   "cell_type": "code",
   "execution_count": 11,
   "metadata": {},
   "outputs": [
    {
     "data": {
      "text/html": [
       "<div>\n",
       "<style scoped>\n",
       "    .dataframe tbody tr th:only-of-type {\n",
       "        vertical-align: middle;\n",
       "    }\n",
       "\n",
       "    .dataframe tbody tr th {\n",
       "        vertical-align: top;\n",
       "    }\n",
       "\n",
       "    .dataframe thead th {\n",
       "        text-align: right;\n",
       "    }\n",
       "</style>\n",
       "<table border=\"1\" class=\"dataframe\">\n",
       "  <thead>\n",
       "    <tr style=\"text-align: right;\">\n",
       "      <th></th>\n",
       "      <th>hypothesis</th>\n",
       "      <th>ice</th>\n",
       "    </tr>\n",
       "  </thead>\n",
       "  <tbody>\n",
       "    <tr>\n",
       "      <th>8</th>\n",
       "      <td>Запустить акцию, дающую скидку на товар в день рождения</td>\n",
       "      <td>16.200000</td>\n",
       "    </tr>\n",
       "    <tr>\n",
       "      <th>0</th>\n",
       "      <td>Добавить два новых канала привлечения трафика, что позволит привлекать на 30% больше пользователей</td>\n",
       "      <td>13.333333</td>\n",
       "    </tr>\n",
       "    <tr>\n",
       "      <th>7</th>\n",
       "      <td>Добавить форму подписки на все основные страницы, чтобы собрать базу клиентов для email-рассылок</td>\n",
       "      <td>11.200000</td>\n",
       "    </tr>\n",
       "    <tr>\n",
       "      <th>6</th>\n",
       "      <td>Показать на главной странице баннеры с актуальными акциями и распродажами, чтобы увеличить конверсию</td>\n",
       "      <td>8.000000</td>\n",
       "    </tr>\n",
       "    <tr>\n",
       "      <th>2</th>\n",
       "      <td>Добавить блоки рекомендаций товаров на сайт интернет магазина, чтобы повысить конверсию и средний чек за...</td>\n",
       "      <td>7.000000</td>\n",
       "    </tr>\n",
       "    <tr>\n",
       "      <th>1</th>\n",
       "      <td>Запустить собственную службу доставки, что сократит срок доставки заказов</td>\n",
       "      <td>2.000000</td>\n",
       "    </tr>\n",
       "    <tr>\n",
       "      <th>5</th>\n",
       "      <td>Добавить страницу отзывов клиентов о магазине, что позволит увеличить количество заказов</td>\n",
       "      <td>1.333333</td>\n",
       "    </tr>\n",
       "    <tr>\n",
       "      <th>3</th>\n",
       "      <td>Изменить структура категорий, что увеличит конверсию, т.к. пользователи быстрее найдут нужный товар</td>\n",
       "      <td>1.125000</td>\n",
       "    </tr>\n",
       "    <tr>\n",
       "      <th>4</th>\n",
       "      <td>Изменить цвет фона главной страницы, чтобы увеличить вовлеченность пользователей</td>\n",
       "      <td>1.000000</td>\n",
       "    </tr>\n",
       "  </tbody>\n",
       "</table>\n",
       "</div>"
      ],
      "text/plain": [
       "                                                                                                    hypothesis  \\\n",
       "8                                                      Запустить акцию, дающую скидку на товар в день рождения   \n",
       "0           Добавить два новых канала привлечения трафика, что позволит привлекать на 30% больше пользователей   \n",
       "7             Добавить форму подписки на все основные страницы, чтобы собрать базу клиентов для email-рассылок   \n",
       "6         Показать на главной странице баннеры с актуальными акциями и распродажами, чтобы увеличить конверсию   \n",
       "2  Добавить блоки рекомендаций товаров на сайт интернет магазина, чтобы повысить конверсию и средний чек за...   \n",
       "1                                    Запустить собственную службу доставки, что сократит срок доставки заказов   \n",
       "5                     Добавить страницу отзывов клиентов о магазине, что позволит увеличить количество заказов   \n",
       "3          Изменить структура категорий, что увеличит конверсию, т.к. пользователи быстрее найдут нужный товар   \n",
       "4                             Изменить цвет фона главной страницы, чтобы увеличить вовлеченность пользователей   \n",
       "\n",
       "         ice  \n",
       "8  16.200000  \n",
       "0  13.333333  \n",
       "7  11.200000  \n",
       "6   8.000000  \n",
       "2   7.000000  \n",
       "1   2.000000  \n",
       "5   1.333333  \n",
       "3   1.125000  \n",
       "4   1.000000  "
      ]
     },
     "metadata": {},
     "output_type": "display_data"
    }
   ],
   "source": [
    "#Примените фреймворк ICE для приоритизации гипотез. Отсортируйте их по убыванию приоритета.\n",
    "\n",
    "hypothesis['ice'] = hypothesis['impact'] * hypothesis['confidence'] / hypothesis['efforts']\n",
    "display(hypothesis[['hypothesis', 'ice']].sort_values(by='ice', ascending=False))"
   ]
  },
  {
   "cell_type": "code",
   "execution_count": 12,
   "metadata": {},
   "outputs": [
    {
     "data": {
      "text/html": [
       "<div>\n",
       "<style scoped>\n",
       "    .dataframe tbody tr th:only-of-type {\n",
       "        vertical-align: middle;\n",
       "    }\n",
       "\n",
       "    .dataframe tbody tr th {\n",
       "        vertical-align: top;\n",
       "    }\n",
       "\n",
       "    .dataframe thead th {\n",
       "        text-align: right;\n",
       "    }\n",
       "</style>\n",
       "<table border=\"1\" class=\"dataframe\">\n",
       "  <thead>\n",
       "    <tr style=\"text-align: right;\">\n",
       "      <th></th>\n",
       "      <th>hypothesis</th>\n",
       "      <th>rice</th>\n",
       "    </tr>\n",
       "  </thead>\n",
       "  <tbody>\n",
       "    <tr>\n",
       "      <th>7</th>\n",
       "      <td>Добавить форму подписки на все основные страницы, чтобы собрать базу клиентов для email-рассылок</td>\n",
       "      <td>112.0</td>\n",
       "    </tr>\n",
       "    <tr>\n",
       "      <th>2</th>\n",
       "      <td>Добавить блоки рекомендаций товаров на сайт интернет магазина, чтобы повысить конверсию и средний чек за...</td>\n",
       "      <td>56.0</td>\n",
       "    </tr>\n",
       "    <tr>\n",
       "      <th>0</th>\n",
       "      <td>Добавить два новых канала привлечения трафика, что позволит привлекать на 30% больше пользователей</td>\n",
       "      <td>40.0</td>\n",
       "    </tr>\n",
       "    <tr>\n",
       "      <th>6</th>\n",
       "      <td>Показать на главной странице баннеры с актуальными акциями и распродажами, чтобы увеличить конверсию</td>\n",
       "      <td>40.0</td>\n",
       "    </tr>\n",
       "    <tr>\n",
       "      <th>8</th>\n",
       "      <td>Запустить акцию, дающую скидку на товар в день рождения</td>\n",
       "      <td>16.2</td>\n",
       "    </tr>\n",
       "    <tr>\n",
       "      <th>3</th>\n",
       "      <td>Изменить структура категорий, что увеличит конверсию, т.к. пользователи быстрее найдут нужный товар</td>\n",
       "      <td>9.0</td>\n",
       "    </tr>\n",
       "    <tr>\n",
       "      <th>1</th>\n",
       "      <td>Запустить собственную службу доставки, что сократит срок доставки заказов</td>\n",
       "      <td>4.0</td>\n",
       "    </tr>\n",
       "    <tr>\n",
       "      <th>5</th>\n",
       "      <td>Добавить страницу отзывов клиентов о магазине, что позволит увеличить количество заказов</td>\n",
       "      <td>4.0</td>\n",
       "    </tr>\n",
       "    <tr>\n",
       "      <th>4</th>\n",
       "      <td>Изменить цвет фона главной страницы, чтобы увеличить вовлеченность пользователей</td>\n",
       "      <td>3.0</td>\n",
       "    </tr>\n",
       "  </tbody>\n",
       "</table>\n",
       "</div>"
      ],
      "text/plain": [
       "                                                                                                    hypothesis  \\\n",
       "7             Добавить форму подписки на все основные страницы, чтобы собрать базу клиентов для email-рассылок   \n",
       "2  Добавить блоки рекомендаций товаров на сайт интернет магазина, чтобы повысить конверсию и средний чек за...   \n",
       "0           Добавить два новых канала привлечения трафика, что позволит привлекать на 30% больше пользователей   \n",
       "6         Показать на главной странице баннеры с актуальными акциями и распродажами, чтобы увеличить конверсию   \n",
       "8                                                      Запустить акцию, дающую скидку на товар в день рождения   \n",
       "3          Изменить структура категорий, что увеличит конверсию, т.к. пользователи быстрее найдут нужный товар   \n",
       "1                                    Запустить собственную службу доставки, что сократит срок доставки заказов   \n",
       "5                     Добавить страницу отзывов клиентов о магазине, что позволит увеличить количество заказов   \n",
       "4                             Изменить цвет фона главной страницы, чтобы увеличить вовлеченность пользователей   \n",
       "\n",
       "    rice  \n",
       "7  112.0  \n",
       "2   56.0  \n",
       "0   40.0  \n",
       "6   40.0  \n",
       "8   16.2  \n",
       "3    9.0  \n",
       "1    4.0  \n",
       "5    4.0  \n",
       "4    3.0  "
      ]
     },
     "metadata": {},
     "output_type": "display_data"
    }
   ],
   "source": [
    "#Примените фреймворк RICE для приоритизации гипотез. Отсортируйте их по убыванию приоритета.\n",
    "\n",
    "hypothesis['rice'] = hypothesis['reach'] * hypothesis['impact'] * hypothesis['confidence'] / hypothesis['efforts']\n",
    "display(hypothesis[['hypothesis', 'rice']].sort_values(by='rice', ascending=False))"
   ]
  },
  {
   "cell_type": "markdown",
   "metadata": {},
   "source": [
    "Выводы:\n",
    "1. В ICE самой приоритетной гипотезой являлась \"Запустить акцию, дающую скидку на товар в день рождения\", а самой неприоритетной \"Изменить цвет фона главной страницы, чтобы увеличить вовлеченность пользователей\".\n",
    "2. В RICE \"Запустить акцию, дающую скидку на товар в день рождения\" спустился на 8 место. На первом месте оказалась гипотеза \"Добавить форму подписки на все основные страницы, чтобы собрать базу клиентов для email-рассылок\". Так получилось, потому что параметр Reach у задачи с формой подписки равна 10, в то время как у других гипотез она ниже. По этой же причине запуск акции по дню рождения спустился с 1 по 8 место из-за наименьшего Reach среди всех остальных гипотез\n",
    "3. \"Изменить цвет фона главной страницы, чтобы увеличить вовлеченность пользователей\" имеет самые низкие числа по всем параметрам"
   ]
  },
  {
   "cell_type": "markdown",
   "metadata": {},
   "source": [
    "# Часть 2. Анализ A/B-теста <a id=\"step5\"></a>"
   ]
  },
  {
   "cell_type": "code",
   "execution_count": 13,
   "metadata": {},
   "outputs": [
    {
     "data": {
      "text/plain": [
       "array(['B', 'A'], dtype=object)"
      ]
     },
     "execution_count": 13,
     "metadata": {},
     "output_type": "execute_result"
    }
   ],
   "source": [
    "orders['group'].unique()"
   ]
  },
  {
   "cell_type": "markdown",
   "metadata": {},
   "source": [
    "В таблице есть группа А и В"
   ]
  },
  {
   "cell_type": "code",
   "execution_count": 14,
   "metadata": {},
   "outputs": [
    {
     "data": {
      "text/plain": [
       "Timestamp('2019-08-01 00:00:00')"
      ]
     },
     "execution_count": 14,
     "metadata": {},
     "output_type": "execute_result"
    }
   ],
   "source": [
    "visitors['date'].min()"
   ]
  },
  {
   "cell_type": "code",
   "execution_count": 15,
   "metadata": {},
   "outputs": [
    {
     "data": {
      "text/plain": [
       "Timestamp('2019-08-31 00:00:00')"
      ]
     },
     "execution_count": 15,
     "metadata": {},
     "output_type": "execute_result"
    }
   ],
   "source": [
    "visitors['date'].max()"
   ]
  },
  {
   "cell_type": "markdown",
   "metadata": {},
   "source": [
    "Тест начинается первого августа, а заканчивается 31 августа."
   ]
  },
  {
   "cell_type": "code",
   "execution_count": 16,
   "metadata": {},
   "outputs": [
    {
     "data": {
      "text/html": [
       "<div>\n",
       "<style scoped>\n",
       "    .dataframe tbody tr th:only-of-type {\n",
       "        vertical-align: middle;\n",
       "    }\n",
       "\n",
       "    .dataframe tbody tr th {\n",
       "        vertical-align: top;\n",
       "    }\n",
       "\n",
       "    .dataframe thead th {\n",
       "        text-align: right;\n",
       "    }\n",
       "</style>\n",
       "<table border=\"1\" class=\"dataframe\">\n",
       "  <thead>\n",
       "    <tr style=\"text-align: right;\">\n",
       "      <th></th>\n",
       "      <th>visitorId</th>\n",
       "      <th>share</th>\n",
       "    </tr>\n",
       "    <tr>\n",
       "      <th>group</th>\n",
       "      <th></th>\n",
       "      <th></th>\n",
       "    </tr>\n",
       "  </thead>\n",
       "  <tbody>\n",
       "    <tr>\n",
       "      <th>A</th>\n",
       "      <td>503</td>\n",
       "      <td>46.189164</td>\n",
       "    </tr>\n",
       "    <tr>\n",
       "      <th>B</th>\n",
       "      <td>586</td>\n",
       "      <td>53.810836</td>\n",
       "    </tr>\n",
       "  </tbody>\n",
       "</table>\n",
       "</div>"
      ],
      "text/plain": [
       "       visitorId      share\n",
       "group                      \n",
       "A            503  46.189164\n",
       "B            586  53.810836"
      ]
     },
     "execution_count": 16,
     "metadata": {},
     "output_type": "execute_result"
    }
   ],
   "source": [
    "share1 = orders.pivot_table(index='group', values='visitorId', aggfunc='nunique')\n",
    "share1['share'] = share1['visitorId'] / share1['visitorId'].sum(axis=0) * 100\n",
    "share1"
   ]
  },
  {
   "cell_type": "markdown",
   "metadata": {},
   "source": [
    "46 на 53. Разница большая."
   ]
  },
  {
   "cell_type": "code",
   "execution_count": 17,
   "metadata": {},
   "outputs": [
    {
     "data": {
      "text/plain": [
       "58"
      ]
     },
     "execution_count": 17,
     "metadata": {},
     "output_type": "execute_result"
    }
   ],
   "source": [
    "list = orders.groupby('visitorId', as_index=False).agg({'group':'nunique'}).query('group > 1')['visitorId']\n",
    "list.shape[0]"
   ]
  },
  {
   "cell_type": "markdown",
   "metadata": {},
   "source": [
    "58 пользователей, которые находятся в двух группах. Следует их удалить"
   ]
  },
  {
   "cell_type": "code",
   "execution_count": 18,
   "metadata": {},
   "outputs": [],
   "source": [
    "orders = orders[np.logical_not(orders[\"visitorId\"].isin(list))]"
   ]
  },
  {
   "cell_type": "markdown",
   "metadata": {},
   "source": [
    "Удалил пользователей, которые участвуют в обоих группах"
   ]
  },
  {
   "cell_type": "code",
   "execution_count": 19,
   "metadata": {},
   "outputs": [
    {
     "data": {
      "text/html": [
       "<div>\n",
       "<style scoped>\n",
       "    .dataframe tbody tr th:only-of-type {\n",
       "        vertical-align: middle;\n",
       "    }\n",
       "\n",
       "    .dataframe tbody tr th {\n",
       "        vertical-align: top;\n",
       "    }\n",
       "\n",
       "    .dataframe thead th {\n",
       "        text-align: right;\n",
       "    }\n",
       "</style>\n",
       "<table border=\"1\" class=\"dataframe\">\n",
       "  <thead>\n",
       "    <tr style=\"text-align: right;\">\n",
       "      <th></th>\n",
       "      <th>visitorId</th>\n",
       "      <th>share</th>\n",
       "    </tr>\n",
       "    <tr>\n",
       "      <th>group</th>\n",
       "      <th></th>\n",
       "      <th></th>\n",
       "    </tr>\n",
       "  </thead>\n",
       "  <tbody>\n",
       "    <tr>\n",
       "      <th>A</th>\n",
       "      <td>445</td>\n",
       "      <td>45.734841</td>\n",
       "    </tr>\n",
       "    <tr>\n",
       "      <th>B</th>\n",
       "      <td>528</td>\n",
       "      <td>54.265159</td>\n",
       "    </tr>\n",
       "  </tbody>\n",
       "</table>\n",
       "</div>"
      ],
      "text/plain": [
       "       visitorId      share\n",
       "group                      \n",
       "A            445  45.734841\n",
       "B            528  54.265159"
      ]
     },
     "execution_count": 19,
     "metadata": {},
     "output_type": "execute_result"
    }
   ],
   "source": [
    "share2 = orders.pivot_table(index='group', values='visitorId', aggfunc='nunique')\n",
    "share2['share'] = share2['visitorId'] / share2['visitorId'].sum(axis=0) * 100\n",
    "share2"
   ]
  },
  {
   "cell_type": "markdown",
   "metadata": {},
   "source": [
    "Удалив дублирующихся пользователей отношение стало 45.7% на 54.3%. К сожалению так группа не должна делиться (должно быть ровно 50% на 50%, особенно на таких малых данных). Я бы продолжил тест, чтобы подкопить данные в группе А до уровня группы В. А пока пойдем подводить результаты анализа по текущим данным."
   ]
  },
  {
   "cell_type": "code",
   "execution_count": 20,
   "metadata": {},
   "outputs": [
    {
     "data": {
      "text/plain": [
       "Text(0.5, 1.0, 'график кумулятивной выручки по группам')"
      ]
     },
     "execution_count": 20,
     "metadata": {},
     "output_type": "execute_result"
    },
    {
     "data": {
      "image/png": "[encoded data removed]",
      "text/plain": [
       "<Figure size 1440x360 with 1 Axes>"
      ]
     },
     "metadata": {
      "needs_background": "light"
     },
     "output_type": "display_data"
    }
   ],
   "source": [
    "#Постройте график кумулятивной выручки по группам. Сделайте выводы и предположения.\n",
    "datesGroups = orders[['date', 'group']].drop_duplicates()\n",
    "\n",
    "ordersAggregated = (\n",
    "    datesGroups.\n",
    "    apply(lambda x: orders[np.logical_and(orders['date'] <= x['date'], orders['group'] == x['group'])].\n",
    "           agg({'date' : 'max', 'group' : 'max', 'transactionId' : 'nunique', 'visitorId' : 'nunique', 'revenue' : 'sum'}), axis=1).\n",
    "    sort_values(by=['date','group'])\n",
    ")\n",
    "\n",
    "visitorsAggregated = (\n",
    "    datesGroups.\n",
    "    apply(lambda x: visitors[np.logical_and(visitors['date'] <= x['date'], visitors['group'] == x['group'])].\n",
    "         agg({'date':'max', 'group':'max', 'visitors':'sum'}), axis=1).\n",
    "    sort_values(by=['date', 'group'])\n",
    ")\n",
    "\n",
    "cumulativeData = ordersAggregated.merge(visitorsAggregated, left_on=['date', 'group'], right_on=['date', 'group'])\n",
    "cumulativeData.columns = ['date', 'group', 'orders', 'buyers', 'revenue', 'visitors']\n",
    "\n",
    "cumulativeRevenueA = cumulativeData[cumulativeData['group']=='A'][['date','revenue', 'orders']]\n",
    "cumulativeRevenueB = cumulativeData[cumulativeData['group']=='B'][['date','revenue', 'orders']]\n",
    "\n",
    "plt.figure(figsize=(20,5))\n",
    "plt.plot(cumulativeRevenueA['date'], cumulativeRevenueA['revenue'], label='A')\n",
    "plt.plot(cumulativeRevenueB['date'], cumulativeRevenueB['revenue'], label='B')\n",
    "plt.legend()\n",
    "plt.xlabel('дата')\n",
    "plt.ylabel('выручка')\n",
    "plt.title('график кумулятивной выручки по группам')"
   ]
  },
  {
   "cell_type": "markdown",
   "metadata": {},
   "source": [
    "Выводы: Выручка стабильно растет. Однако на 19 день выручка в группа В резко возрастает. Наверное произошла дорогая покупка или в этот день было много заказов."
   ]
  },
  {
   "cell_type": "code",
   "execution_count": 21,
   "metadata": {},
   "outputs": [
    {
     "data": {
      "text/plain": [
       "Text(0.5, 1.0, 'график кумулятивного среднего чека по группам')"
      ]
     },
     "execution_count": 21,
     "metadata": {},
     "output_type": "execute_result"
    },
    {
     "data": {
      "image/png": "[encoded data removed]",
      "text/plain": [
       "<Figure size 1440x360 with 1 Axes>"
      ]
     },
     "metadata": {
      "needs_background": "light"
     },
     "output_type": "display_data"
    }
   ],
   "source": [
    "#Постройте график кумулятивного среднего чека по группам. Сделайте выводы и предположения.\n",
    "plt.figure(figsize=(20,5))\n",
    "plt.plot(cumulativeRevenueA['date'], cumulativeRevenueA['revenue']/cumulativeRevenueA['orders'], label='A')\n",
    "plt.plot(cumulativeRevenueB['date'], cumulativeRevenueB['revenue']/cumulativeRevenueB['orders'], label='B')\n",
    "plt.legend()\n",
    "plt.xlabel('дата')\n",
    "plt.ylabel('средний чек')\n",
    "plt.title('график кумулятивного среднего чека по группам')"
   ]
  },
  {
   "cell_type": "markdown",
   "metadata": {},
   "source": [
    "Выводы: Средний чек в группе В 19 августа резко увеличился, а потом постепенно начал снижаться. Это говорит о том, что 19 августва какая-то единичная дорогая покупка, которая повысила средний чек, однако потом средний чек в следующие дни начал постепенно снижаться и \"приходить в норму\". Группа А показала наименьший средний чек 6 августа. Однако потом произошел постепенный рост. После 13 числа средний чек группы А стабилизировался."
   ]
  },
  {
   "cell_type": "code",
   "execution_count": 22,
   "metadata": {},
   "outputs": [
    {
     "data": {
      "text/plain": [
       "Text(0.5, 1.0, 'график относительного изменения кумулятивного среднего чека группы B к группе A')"
      ]
     },
     "execution_count": 22,
     "metadata": {},
     "output_type": "execute_result"
    },
    {
     "data": {
      "image/png": "[encoded data removed]",
      "text/plain": [
       "<Figure size 1440x360 with 1 Axes>"
      ]
     },
     "metadata": {
      "needs_background": "light"
     },
     "output_type": "display_data"
    }
   ],
   "source": [
    "#Постройте график относительного изменения кумулятивного среднего чека группы B к группе A. Сделайте выводы и предположения.\n",
    "\n",
    "mergedCummulatieRevenue = cumulativeRevenueA.merge(cumulativeRevenueB, on='date', how='left', suffixes=['A', 'B'])\n",
    "\n",
    "plt.figure(figsize=(20,5))\n",
    "plt.plot(mergedCummulatieRevenue['date'], (mergedCummulatieRevenue['revenueB'] / mergedCummulatieRevenue['ordersA']) / (mergedCummulatieRevenue['revenueA'] / mergedCummulatieRevenue['ordersB']) - 1)\n",
    "plt.axhline(y=0, color='red', linestyle='--') \n",
    "plt.xlabel('дата')\n",
    "plt.ylabel('относительная разница среднего чека')\n",
    "plt.title('график относительного изменения кумулятивного среднего чека группы B к группе A')"
   ]
  },
  {
   "cell_type": "markdown",
   "metadata": {},
   "source": [
    "Выводы: Средний чек группы B выше относительно группы A во все дни. Очередное подтверждение, что на 19 день в группе B закрался потенциально крупный заказ."
   ]
  },
  {
   "cell_type": "code",
   "execution_count": 23,
   "metadata": {},
   "outputs": [
    {
     "data": {
      "text/plain": [
       "Text(0.5, 1.0, 'график кумулятивной конверсии по группам')"
      ]
     },
     "execution_count": 23,
     "metadata": {},
     "output_type": "execute_result"
    },
    {
     "data": {
      "image/png": "[encoded data removed]",
      "text/plain": [
       "<Figure size 1440x360 with 1 Axes>"
      ]
     },
     "metadata": {
      "needs_background": "light"
     },
     "output_type": "display_data"
    }
   ],
   "source": [
    "#Постройте график кумулятивной конверсии по группам. Сделайте выводы и предположения.\n",
    "\n",
    "cumulativeConversionA = cumulativeData[cumulativeData['group']=='A'][['date','orders', 'visitors']]\n",
    "cumulativeConversionB = cumulativeData[cumulativeData['group']=='B'][['date','orders', 'visitors']]\n",
    "\n",
    "\n",
    "plt.figure(figsize=(20,5))\n",
    "plt.plot(cumulativeConversionA['date'], cumulativeConversionA['orders'] / cumulativeConversionA['visitors'], label='A')\n",
    "plt.plot(cumulativeConversionB['date'], cumulativeConversionB['orders'] / cumulativeConversionB['visitors'], label='B')\n",
    "plt.legend()\n",
    "plt.xlabel('дата')\n",
    "plt.ylabel('конверсия')\n",
    "plt.title('график кумулятивной конверсии по группам')"
   ]
  },
  {
   "cell_type": "markdown",
   "metadata": {},
   "source": [
    "Выводы: Практически симметричный график. Группа B просела 3 августа, а потом вырвалась выше по конверсии в сравнении с группой А"
   ]
  },
  {
   "cell_type": "code",
   "execution_count": 24,
   "metadata": {},
   "outputs": [
    {
     "data": {
      "text/plain": [
       "Text(0.5, 1.0, 'график относительного изменения кумулятивной конверсии группы B к группе A')"
      ]
     },
     "execution_count": 24,
     "metadata": {},
     "output_type": "execute_result"
    },
    {
     "data": {
      "image/png": "[encoded data removed]",
      "text/plain": [
       "<Figure size 1440x360 with 1 Axes>"
      ]
     },
     "metadata": {
      "needs_background": "light"
     },
     "output_type": "display_data"
    }
   ],
   "source": [
    "#Постройте график относительного изменения кумулятивной конверсии группы B к группе A. Сделайте выводы и предположения.\n",
    "\n",
    "mergedConversion = cumulativeConversionA.merge(cumulativeConversionB, on='date', how='left', suffixes=['A','B'])\n",
    "\n",
    "plt.figure(figsize=(20,5))\n",
    "plt.plot(mergedConversion['date'], \n",
    "         (mergedConversion['ordersB'] / mergedConversion['visitorsB']) / (mergedConversion['ordersA'] / mergedConversion['visitorsA']) - 1)\n",
    "plt.axhline(y=0, color='red', linestyle='--')\n",
    "plt.axhline(y=0.10, color='black', linestyle='--')\n",
    "plt.xlabel('дата')\n",
    "plt.ylabel('относительная конверсия В к А')\n",
    "plt.title('график относительного изменения кумулятивной конверсии группы B к группе A')"
   ]
  },
  {
   "cell_type": "markdown",
   "metadata": {},
   "source": [
    "Выводы: Вначале группа В проигрывала в конверсии группе А. Однако потом группа В вырвалась вперед, чуть снизилась и показывает стабильную конверсию последние дни и не отпускается ниже 0.1. Однако делать какие-либо выводы по тесту рано. Стоит проанализировать аномалии, возможно, они изменят картину"
   ]
  },
  {
   "cell_type": "code",
   "execution_count": 25,
   "metadata": {},
   "outputs": [
    {
     "data": {
      "text/plain": [
       "Text(0.5, 1.0, 'точечный график количества заказов по пользователям')"
      ]
     },
     "execution_count": 25,
     "metadata": {},
     "output_type": "execute_result"
    },
    {
     "data": {
      "image/png": "[encoded data removed]",
      "text/plain": [
       "<Figure size 1440x360 with 1 Axes>"
      ]
     },
     "metadata": {
      "needs_background": "light"
     },
     "output_type": "display_data"
    }
   ],
   "source": [
    "#Постройте точечный график количества заказов по пользователям. Сделайте выводы и предположения.\n",
    "\n",
    "ordersByUsers = (orders.\n",
    "                groupby('visitorId', as_index=False).\n",
    "                agg({'transactionId':'nunique'}))\n",
    "\n",
    "ordersByUsers.columns = ['visitorId', 'orders']\n",
    "\n",
    "\n",
    "x_values = pd.Series(range(0,len(ordersByUsers)))\n",
    "\n",
    "plt.figure(figsize=(20,5))\n",
    "plt.scatter(x_values, ordersByUsers['orders']) \n",
    "plt.xlabel('пользователи')\n",
    "plt.ylabel('количество заказов')\n",
    "plt.title('точечный график количества заказов по пользователям')"
   ]
  },
  {
   "cell_type": "markdown",
   "metadata": {},
   "source": [
    "Выводы: Очень много пользователей с 2 - 4 заказами. Непонятно, какая у них доля, считать их аномалиями - ответ будет в следующей строке. "
   ]
  },
  {
   "cell_type": "code",
   "execution_count": 26,
   "metadata": {},
   "outputs": [
    {
     "name": "stdout",
     "output_type": "stream",
     "text": [
      "[1. 2.]\n"
     ]
    }
   ],
   "source": [
    "#Посчитайте 95-й и 99-й перцентили количества заказов на пользователя. \n",
    "#Выберите границу для определения аномальных пользователей.\n",
    "\n",
    "print(np.percentile(ordersByUsers['orders'], [95, 99])) "
   ]
  },
  {
   "cell_type": "markdown",
   "metadata": {},
   "source": [
    "Выводы: Выберем 2 заказа за нижнюю границу числа заказов. Всё что выше будем считать за аномалию и исключим"
   ]
  },
  {
   "cell_type": "code",
   "execution_count": 27,
   "metadata": {},
   "outputs": [
    {
     "data": {
      "text/plain": [
       "Text(0.5, 1.0, 'точечный график стоимостей заказов')"
      ]
     },
     "execution_count": 27,
     "metadata": {},
     "output_type": "execute_result"
    },
    {
     "data": {
      "image/png": "[encoded data removed]",
      "text/plain": [
       "<Figure size 1440x360 with 1 Axes>"
      ]
     },
     "metadata": {
      "needs_background": "light"
     },
     "output_type": "display_data"
    }
   ],
   "source": [
    "#Постройте точечный график стоимостей заказов. Сделайте выводы и предположения.\n",
    "\n",
    "x1_values = pd.Series(range(0,len(orders['revenue'])))\n",
    "\n",
    "plt.figure(figsize=(20,5))\n",
    "plt.scatter(x1_values, orders['revenue']) \n",
    "plt.xlabel('пользователи')\n",
    "plt.ylabel('стоимость заказа')\n",
    "plt.title('точечный график стоимостей заказов')"
   ]
  },
  {
   "cell_type": "markdown",
   "metadata": {},
   "source": [
    "Выводы: Видим один заказ свыше 1 млн. Очень много заказ в районе 10 тыс. Скорее всего нижняя граница будет гораздо выше 10 тысяч рублей"
   ]
  },
  {
   "cell_type": "code",
   "execution_count": 28,
   "metadata": {},
   "outputs": [
    {
     "name": "stdout",
     "output_type": "stream",
     "text": [
      "[26785. 53904.]\n"
     ]
    }
   ],
   "source": [
    "#Посчитайте 95-й и 99-й перцентили стоимости заказов. Выберите границу для определения аномальных заказов.\n",
    "\n",
    "#revenueByUsers = (orders.groupby('visitorId', as_index=False).agg({'revenue':'sum'}))\n",
    "#revenueByUsers.columns = ['visitorId', 'revenue']\n",
    "\n",
    "print(np.percentile(orders['revenue'], [95, 99])) "
   ]
  },
  {
   "cell_type": "markdown",
   "metadata": {},
   "source": [
    "Выводы: Выберем заказы стоимостью в 26785 за нижнюю границу числа заказов (95 перцентиль). Всё что выше будем считать за аномалию и исключим"
   ]
  },
  {
   "cell_type": "code",
   "execution_count": 29,
   "metadata": {},
   "outputs": [
    {
     "data": {
      "text/html": [
       "<div>\n",
       "<style scoped>\n",
       "    .dataframe tbody tr th:only-of-type {\n",
       "        vertical-align: middle;\n",
       "    }\n",
       "\n",
       "    .dataframe tbody tr th {\n",
       "        vertical-align: top;\n",
       "    }\n",
       "\n",
       "    .dataframe thead th {\n",
       "        text-align: right;\n",
       "    }\n",
       "</style>\n",
       "<table border=\"1\" class=\"dataframe\">\n",
       "  <thead>\n",
       "    <tr style=\"text-align: right;\">\n",
       "      <th></th>\n",
       "      <th>date</th>\n",
       "      <th>ordersPerDateA</th>\n",
       "      <th>revenuePerDateA</th>\n",
       "      <th>ordersPerDateB</th>\n",
       "      <th>revenuePerDateB</th>\n",
       "      <th>ordersCummulativeA</th>\n",
       "      <th>revenueCummulativeA</th>\n",
       "      <th>ordersCummulativeB</th>\n",
       "      <th>revenueCummulativeB</th>\n",
       "      <th>visitorsPerDateA</th>\n",
       "      <th>visitorsPerDateB</th>\n",
       "      <th>visitorsCummulativeA</th>\n",
       "      <th>visitorsCummulativeB</th>\n",
       "    </tr>\n",
       "  </thead>\n",
       "  <tbody>\n",
       "    <tr>\n",
       "      <th>0</th>\n",
       "      <td>2019-08-01</td>\n",
       "      <td>23</td>\n",
       "      <td>142779</td>\n",
       "      <td>17</td>\n",
       "      <td>59758</td>\n",
       "      <td>23</td>\n",
       "      <td>142779</td>\n",
       "      <td>17</td>\n",
       "      <td>59758</td>\n",
       "      <td>719</td>\n",
       "      <td>713</td>\n",
       "      <td>719</td>\n",
       "      <td>713</td>\n",
       "    </tr>\n",
       "    <tr>\n",
       "      <th>1</th>\n",
       "      <td>2019-08-02</td>\n",
       "      <td>19</td>\n",
       "      <td>91602</td>\n",
       "      <td>23</td>\n",
       "      <td>162043</td>\n",
       "      <td>42</td>\n",
       "      <td>234381</td>\n",
       "      <td>40</td>\n",
       "      <td>221801</td>\n",
       "      <td>619</td>\n",
       "      <td>581</td>\n",
       "      <td>1338</td>\n",
       "      <td>1294</td>\n",
       "    </tr>\n",
       "    <tr>\n",
       "      <th>2</th>\n",
       "      <td>2019-08-03</td>\n",
       "      <td>24</td>\n",
       "      <td>112473</td>\n",
       "      <td>14</td>\n",
       "      <td>67049</td>\n",
       "      <td>66</td>\n",
       "      <td>346854</td>\n",
       "      <td>54</td>\n",
       "      <td>288850</td>\n",
       "      <td>507</td>\n",
       "      <td>509</td>\n",
       "      <td>1845</td>\n",
       "      <td>1803</td>\n",
       "    </tr>\n",
       "    <tr>\n",
       "      <th>3</th>\n",
       "      <td>2019-08-04</td>\n",
       "      <td>11</td>\n",
       "      <td>41176</td>\n",
       "      <td>14</td>\n",
       "      <td>96890</td>\n",
       "      <td>77</td>\n",
       "      <td>388030</td>\n",
       "      <td>68</td>\n",
       "      <td>385740</td>\n",
       "      <td>717</td>\n",
       "      <td>770</td>\n",
       "      <td>2562</td>\n",
       "      <td>2573</td>\n",
       "    </tr>\n",
       "    <tr>\n",
       "      <th>4</th>\n",
       "      <td>2019-08-05</td>\n",
       "      <td>22</td>\n",
       "      <td>86383</td>\n",
       "      <td>21</td>\n",
       "      <td>89908</td>\n",
       "      <td>99</td>\n",
       "      <td>474413</td>\n",
       "      <td>89</td>\n",
       "      <td>475648</td>\n",
       "      <td>756</td>\n",
       "      <td>707</td>\n",
       "      <td>3318</td>\n",
       "      <td>3280</td>\n",
       "    </tr>\n",
       "  </tbody>\n",
       "</table>\n",
       "</div>"
      ],
      "text/plain": [
       "        date  ordersPerDateA  revenuePerDateA  ordersPerDateB  \\\n",
       "0 2019-08-01              23           142779              17   \n",
       "1 2019-08-02              19            91602              23   \n",
       "2 2019-08-03              24           112473              14   \n",
       "3 2019-08-04              11            41176              14   \n",
       "4 2019-08-05              22            86383              21   \n",
       "\n",
       "   revenuePerDateB  ordersCummulativeA  revenueCummulativeA  \\\n",
       "0            59758                  23               142779   \n",
       "1           162043                  42               234381   \n",
       "2            67049                  66               346854   \n",
       "3            96890                  77               388030   \n",
       "4            89908                  99               474413   \n",
       "\n",
       "   ordersCummulativeB  revenueCummulativeB  visitorsPerDateA  \\\n",
       "0                  17                59758               719   \n",
       "1                  40               221801               619   \n",
       "2                  54               288850               507   \n",
       "3                  68               385740               717   \n",
       "4                  89               475648               756   \n",
       "\n",
       "   visitorsPerDateB  visitorsCummulativeA  visitorsCummulativeB  \n",
       "0               713                   719                   713  \n",
       "1               581                  1338                  1294  \n",
       "2               509                  1845                  1803  \n",
       "3               770                  2562                  2573  \n",
       "4               707                  3318                  3280  "
      ]
     },
     "metadata": {},
     "output_type": "display_data"
    }
   ],
   "source": [
    "#Посчитайте статистическую значимость различий в конверсии между группами по «сырым» данным. \n",
    "#Сделайте выводы и предположения.\n",
    "\n",
    "visitorsADaily = visitors[visitors['group'] == 'A'][['date', 'visitors']]\n",
    "\n",
    "visitorsADaily.columns = ['date', 'visitorsPerDateA']\n",
    "\n",
    "visitorsACummulative = visitorsADaily.apply(\n",
    "    lambda x: visitorsADaily[visitorsADaily['date'] <= x['date']].agg(\n",
    "        {'date': 'max', 'visitorsPerDateA': 'sum'}\n",
    "    ),\n",
    "    axis=1,\n",
    ")\n",
    "\n",
    "visitorsACummulative.columns = ['date', 'visitorsCummulativeA']\n",
    "\n",
    "visitorsBDaily = visitors[visitors['group'] == 'B'][['date', 'visitors']]\n",
    "\n",
    "visitorsBDaily.columns = ['date', 'visitorsPerDateB']\n",
    "\n",
    "visitorsBCummulative = visitorsBDaily.apply(\n",
    "    lambda x: visitorsBDaily[visitorsBDaily['date'] <= x['date']].agg(\n",
    "        {'date':'max', 'visitorsPerDateB':'sum'}\n",
    "    ),\n",
    "    axis=1\n",
    ")\n",
    "\n",
    "visitorsBCummulative.columns = ['date', 'visitorsCummulativeB']\n",
    "\n",
    "ordersADaily = (\n",
    "    orders[orders['group'] == 'A'][['date', 'transactionId', 'visitorId', 'revenue']].\n",
    "    groupby('date', as_index=False).\n",
    "    agg({'transactionId':pd.Series.nunique, 'revenue':'sum'})\n",
    ")\n",
    "\n",
    "ordersADaily.columns = ['date', 'ordersPerDateA', 'revenuePerDateA']\n",
    "\n",
    "ordersACummulative = ordersADaily.apply(\n",
    "    lambda x: ordersADaily[ordersADaily['date'] <= x['date']].agg(\n",
    "        {'date':'max','ordersPerDateA':'sum', 'revenuePerDateA':'sum'}\n",
    "    ),\n",
    "    axis=1\n",
    ")\n",
    "\n",
    "ordersACummulative.columns = ['date', 'ordersCummulativeA', 'revenueCummulativeA']\n",
    "\n",
    "ordersBDaily = (\n",
    "    orders[orders['group'] == 'B'][['date', 'transactionId', 'visitorId', 'revenue']].\n",
    "    groupby('date', as_index=False).\n",
    "    agg({'transactionId':pd.Series.nunique, 'revenue':'sum'})\n",
    ")\n",
    "\n",
    "ordersBDaily.columns = ['date', 'ordersPerDateB', 'revenuePerDateB']\n",
    "\n",
    "ordersBCummulative = ordersBDaily.apply(\n",
    "    lambda x: ordersBDaily[ordersBDaily['date'] <= x['date']].agg(\n",
    "        {'date':'max', 'ordersPerDateB':'sum', 'revenuePerDateB':'sum'}\n",
    "    ),\n",
    "    axis=1\n",
    ")\n",
    "\n",
    "ordersBCummulative.columns = ['date', 'ordersCummulativeB', 'revenueCummulativeB']\n",
    "\n",
    "data = (\n",
    "    ordersADaily.merge(ordersBDaily, left_on='date', right_on='date', how='left')\n",
    "    .merge(ordersACummulative, left_on='date', right_on='date', how='left')\n",
    "    .merge(ordersBCummulative, left_on='date', right_on='date', how='left')\n",
    "    .merge(visitorsADaily, left_on='date', right_on='date', how='left')\n",
    "    .merge(visitorsBDaily, left_on='date', right_on='date', how='left')\n",
    "    .merge(visitorsACummulative, left_on='date', right_on='date', how='left')\n",
    "    .merge(visitorsBCummulative, left_on='date', right_on='date', how='left')\n",
    ")\n",
    "\n",
    "display(data.head())"
   ]
  },
  {
   "cell_type": "markdown",
   "metadata": {},
   "source": [
    "Объединили все данные, теперь приступаем к выявлению стат.значимостей в конверсии и среднем чеке. Напомню, что в первую очередь для интернет магазина важно увеличить выручку. Это значит, что в ключевую роль в стат.значимости сыграет не конверсия, а увеличения среднего чека. Без увеличения среднего чека, увеличение конверсии не имеет смысла."
   ]
  },
  {
   "cell_type": "markdown",
   "metadata": {},
   "source": [
    "#### Сформулируем нулевую и альтернативную гипотезы\n",
    "Для конверсии:\n",
    "1. Нулевая гипотеза: различий в конверсии между группами нет\n",
    "2. Альтернативная гипотеза: различия в конверсии между группами есть\n",
    "\n",
    "Для среднего чека:\n",
    "1. Нулевая гипотеза: различий в среднем чеке между группами нет\n",
    "2. Альтернативная гипотеза: различия в среднем чеке между группами есть"
   ]
  },
  {
   "cell_type": "code",
   "execution_count": 30,
   "metadata": {},
   "outputs": [
    {
     "name": "stdout",
     "output_type": "stream",
     "text": [
      "P-value в конверсии равняется: 0.011\n",
      "\n",
      "P-value меньше 0.05. \n",
      "Значит, нулевую гипотезу о том, что статистически значимых различий в конверсии между группами нет, отвергаем.\n",
      "\n",
      "Относительная разница конверсии группы В к группе А: 0.160\n"
     ]
    }
   ],
   "source": [
    "ordersByUsersA = (\n",
    "    orders[orders['group'] == 'A']\n",
    "    .groupby('visitorId', as_index=False)\n",
    "    .agg({'transactionId':pd.Series.nunique})\n",
    ")\n",
    "\n",
    "ordersByUsersA.columns = ['userId', 'orders']\n",
    "\n",
    "ordersByUsersB = (\n",
    "    orders[orders['group'] == 'B']\n",
    "    .groupby('visitorId', as_index=False)\n",
    "    .agg({'transactionId':pd.Series.nunique})\n",
    ")\n",
    "\n",
    "ordersByUsersB.columns = ['userId', 'orders']\n",
    "\n",
    "sampleA = (pd.concat([ordersByUsersA['orders'],\n",
    "                      pd.Series(0, index=np.arange(data['visitorsPerDateA'].sum() - len(ordersByUsersA['orders'])), \n",
    "                                name='orders')],axis=0))\n",
    "\n",
    "sampleB = (pd.concat([ordersByUsersB['orders'],\n",
    "                      pd.Series(0, index=np.arange(data['visitorsPerDateB'].sum() - len(ordersByUsersB['orders'])), \n",
    "                                name='orders')],axis=0))\n",
    "\n",
    "\n",
    "p_value = stats.mannwhitneyu(sampleA, sampleB)[1]\n",
    "\n",
    "alpha = .05\n",
    "\n",
    "print(\"P-value в конверсии равняется:\",\"{0:.3f}\".format(p_value))\n",
    "print()\n",
    "\n",
    "if p_value < alpha:\n",
    "    print('P-value меньше 0.05. \\nЗначит, нулевую гипотезу о том, что статистически значимых различий в конверсии между группами нет, отвергаем.')\n",
    "else:\n",
    "    print('P-value больше 0.05. \\nЗначит, нулевую гипотезу о том, что статистически значимых различий в конверсии между группами нет, не отвергаем.')\n",
    "\n",
    "print()\n",
    "print(\"Относительная разница конверсии группы В к группе А:\", \"{0:.3f}\".format(sampleB.mean() / sampleA.mean() - 1))"
   ]
  },
  {
   "cell_type": "markdown",
   "metadata": {},
   "source": [
    "Выводы: Есть стат.значимый результат в конверсии. Также присутствует относительная разница в конверсии в пользу группы В: 16%. "
   ]
  },
  {
   "cell_type": "code",
   "execution_count": 31,
   "metadata": {},
   "outputs": [
    {
     "name": "stdout",
     "output_type": "stream",
     "text": [
      "P-value в среднем чеке равняется: 0.829\n",
      "\n",
      "P-value больше 0.05. \n",
      "Значит, причин отвергать нулевую гипотезу и считать, что в среднем чеке есть различия, нет.\n",
      "\n",
      "Относительная разница в среднем чеке группы В к группе А: 0.287\n"
     ]
    }
   ],
   "source": [
    "#Посчитайте статистическую значимость различий в среднем чеке заказа между группами по «сырым» данным. \n",
    "#Сделайте выводы и предположения.\n",
    "\n",
    "p_value_2 = stats.mannwhitneyu(orders[orders['group']=='A']['revenue'], orders[orders['group']=='B']['revenue'])[1]\n",
    "\n",
    "print(\"P-value в среднем чеке равняется:\",\"{0:.3f}\".format(p_value_2))\n",
    "print()\n",
    "\n",
    "if p_value_2 < alpha:\n",
    "    print('P-value меньше 0.05. \\nЗначит, есть причина отвергать нулевую гипотезу и считать, что в среднем чеке есть различия')\n",
    "else:\n",
    "    print('P-value больше 0.05. \\nЗначит, причин отвергать нулевую гипотезу и считать, что в среднем чеке есть различия, нет.')\n",
    "\n",
    "print()\n",
    "print(\"Относительная разница в среднем чеке группы В к группе А:\", \"{0:.3f}\".format(orders[orders['group']=='B']['revenue'].mean()/orders[orders['group']=='A']['revenue'].mean()-1)) "
   ]
  },
  {
   "cell_type": "markdown",
   "metadata": {},
   "source": [
    "Выводы: Результат не стат.значимый. Однако присутствует большая относительная разница в среднем чеке в пользу группы В. Посмотрим, что покажут очищенные данные."
   ]
  },
  {
   "cell_type": "markdown",
   "metadata": {},
   "source": [
    "Теперь посчитаем подчищенные данные. Для этого исключим аномалии. Исходя из перцентилей исключим пользователей совершивших больше 4 заказов, а также исключим пользователей с покупкой больше 35000. "
   ]
  },
  {
   "cell_type": "code",
   "execution_count": 32,
   "metadata": {},
   "outputs": [
    {
     "name": "stdout",
     "output_type": "stream",
     "text": [
      "568     113298937\n",
      "1099    148427295\n",
      "928     204675465\n",
      "33      249864742\n",
      "684     358944393\n",
      "dtype: int64\n",
      "58\n"
     ]
    }
   ],
   "source": [
    "usersWithManyOrders = pd.concat([ordersByUsersA[ordersByUsersA['orders'] > np.percentile(ordersByUsers['orders'], [95, 99])[1]]['userId'],\n",
    "                                ordersByUsersB[ordersByUsersB['orders'] > np.percentile(ordersByUsers['orders'], [95, 99])[1]]['userId']], axis=0)\n",
    "\n",
    "usersWithExpensiveOrders = orders[orders['revenue'] > np.percentile(orders['revenue'], [95, 99])[0]\n",
    "]['visitorId']\n",
    "\n",
    "usersWithExpensiveOrders.columns = ['userId']\n",
    "\n",
    "abnormalUsers = (\n",
    "    pd.concat(\n",
    "        [\n",
    "            usersWithManyOrders, usersWithExpensiveOrders\n",
    "        ],\n",
    "        axis=0\n",
    "    ).drop_duplicates().sort_values()\n",
    ")\n",
    "\n",
    "print(abnormalUsers.head(5))\n",
    "print(abnormalUsers.shape[0])"
   ]
  },
  {
   "cell_type": "markdown",
   "metadata": {},
   "source": [
    "Всего 58 аномалий. Узнаем, как их действия повлияли на результаты теста. Посчитаем статистическую значимость различий в конверсии между группами теста по очищенным данным."
   ]
  },
  {
   "cell_type": "code",
   "execution_count": 33,
   "metadata": {},
   "outputs": [
    {
     "name": "stdout",
     "output_type": "stream",
     "text": [
      "P-value в очищенных данных в конверсии равняется: 0.012\n",
      "\n",
      "P-value меньше 0.05. \n",
      "Нулевую гипотезу о том, что статистически значимых различий в очищенных данных в конверсии между группами нет, отвергаем.\n",
      "\n",
      "Относительная разница конверсии в очищенных данных группы В к группе А: 0.182\n"
     ]
    }
   ],
   "source": [
    "#Посчитайте статистическую значимость различий в конверсии между группами по «очищенным» данным. \n",
    "#Сделайте выводы и предположения.\n",
    "\n",
    "sampleAFiltered = pd.concat(\n",
    "    [\n",
    "        ordersByUsersA[\n",
    "            np.logical_not(ordersByUsersA['userId'].isin(abnormalUsers))\n",
    "        ]['orders'],\n",
    "        pd.Series(\n",
    "            0,\n",
    "            index=np.arange(\n",
    "                data['visitorsPerDateA'].sum() - len(ordersByUsersA['orders'])\n",
    "            ),\n",
    "            name='orders',\n",
    "        ),\n",
    "    ],\n",
    "    axis=0,\n",
    ")\n",
    "\n",
    "sampleBFiltered = pd.concat(\n",
    "    [\n",
    "        ordersByUsersB[np.logical_not(ordersByUsersB['userId'].isin(abnormalUsers))]['orders'],\n",
    "        pd.Series(0, \n",
    "                  index=np.arange(data['visitorsPerDateB'].sum() - len(ordersByUsersB['orders'])), \n",
    "                  name='orders'\n",
    "                 )\n",
    "    ],\n",
    "    axis=0\n",
    ")\n",
    "\n",
    "p_value_filtered = stats.mannwhitneyu(sampleAFiltered, sampleBFiltered)[1]\n",
    "\n",
    "print(\"P-value в очищенных данных в конверсии равняется:\",\"{0:.3f}\".format(p_value_filtered))\n",
    "print()\n",
    "\n",
    "if p_value_filtered < alpha:\n",
    "    print('P-value меньше 0.05. \\nНулевую гипотезу о том, что статистически значимых различий в очищенных данных в конверсии между группами нет, отвергаем.')\n",
    "else:\n",
    "    print('P-value больше 0.05. \\nНулевую гипотезу о том, что статистически значимых различий в очищенных данных в конверсии между группами нет, не отвергаем.')\n",
    "\n",
    "print()\n",
    "print(\"Относительная разница конверсии в очищенных данных группы В к группе А:\", \"{0:.3f}\".format(sampleBFiltered.mean() / sampleAFiltered.mean() - 1))"
   ]
  },
  {
   "cell_type": "markdown",
   "metadata": {},
   "source": [
    "Выводы: Результаты конверсии в очищенных данных практически не изменились. Однако увеличилась относительная разница конверсии группы В к группе А с 16% до 18.2%."
   ]
  },
  {
   "cell_type": "code",
   "execution_count": 34,
   "metadata": {},
   "outputs": [
    {
     "name": "stdout",
     "output_type": "stream",
     "text": [
      "P-value в среднем чеке равняется: 0.646\n",
      "\n",
      "P-value больше 0.05. \n",
      "Значит, причин отвергать нулевую гипотезу и считать, что в среднем чеке есть различия, нет.\n",
      "\n",
      "Относительная разница в среднем чеке группы В к группе А: -0.048\n"
     ]
    }
   ],
   "source": [
    "#Посчитайте статистическую значимость различий в среднем чеке заказа между группами по «очищенным» данным. \n",
    "#Сделайте выводы и предположения.\n",
    "\n",
    "revenueFilteredA = orders[\n",
    "    np.logical_and(\n",
    "        orders['group'] == 'A',\n",
    "        np.logical_not(orders['visitorId'].isin(abnormalUsers))\n",
    "    )\n",
    "]['revenue']\n",
    "\n",
    "revenueFilteredB = orders[\n",
    "    np.logical_and(\n",
    "        orders['group'] == 'B',\n",
    "        np.logical_not(orders['visitorId'].isin(abnormalUsers))\n",
    "    )\n",
    "]['revenue']\n",
    "\n",
    "p_value_2_filtered = stats.mannwhitneyu(revenueFilteredA, revenueFilteredB)[1]\n",
    "\n",
    "print(\"P-value в среднем чеке равняется:\",\"{0:.3f}\".format(p_value_2_filtered))\n",
    "print()\n",
    "\n",
    "if p_value_2_filtered < alpha:\n",
    "    print('P-value меньше 0.05. \\nЗначит, есть причина отвергать нулевую гипотезу и считать, что в среднем чеке есть различия')\n",
    "else:\n",
    "    print('P-value больше 0.05. \\nЗначит, причин отвергать нулевую гипотезу и считать, что в среднем чеке есть различия, нет.')\n",
    "\n",
    "print()\n",
    "print(\"Относительная разница в среднем чеке группы В к группе А:\", \"{0:.3f}\".format(revenueFilteredB.mean()/revenueFilteredA.mean()-1)) "
   ]
  },
  {
   "cell_type": "markdown",
   "metadata": {},
   "source": [
    "Выводы: Результаты среднего чека в очищенных данных изменились, но результат всё ещё не стат.значимый. Однако сильно уменьшилась относительная разница среднего чека группы В к группе А с 28.7% до -4.8%. Теперь группа А выглядет чуточку получше. "
   ]
  },
  {
   "cell_type": "markdown",
   "metadata": {},
   "source": [
    "Примите решение по результатам теста и объясните его. \n",
    "#Варианты решений: \n",
    "1. Остановить тест, зафиксировать победу одной из групп. \n",
    "2. Остановить тест, зафиксировать отсутствие различий между группами. \n",
    "3. Продолжить тест."
   ]
  },
  {
   "cell_type": "markdown",
   "metadata": {},
   "source": [
    "### Какие выводы можно сделать по тестам?\n",
    "1. Есть статистически значимое различие по конверсии между группами по «сырым» и по данным после фильтрации аномалий\n",
    "2. Нет статистически значимого различия по среднему чеку между группами ни по «сырым», ни по данным после фильтрации аномалий\n",
    "3. График различия конверсии между группами сообщает, что результаты группы B лучше группы A и нет значительной тенденции к улучшению\n",
    "4. График различия среднего чека между группами сообщает, что результаты группы B лучше группы A и нет значительной тенденции к улучшению\n",
    "\n",
    "Честно говоря, меня смутило что пользователей в группе А значительно меньше. Есть хорошие результаты в конверсии, значит как минимум можно продолжить тестирование. Пока мы не видим стат.значимых результатов по среднему чеку, но из текущих данных исходит вывод, что стоит и дальше проводить тестирование, по крайней мере, пока группы не уравняются. "
   ]
  }
 ],
 "metadata": {
  "ExecuteTimeLog": [
   {
    "duration": 4,
    "start_time": "2022-05-04T15:21:49.481Z"
   },
   {
    "duration": 886,
    "start_time": "2022-05-04T15:42:04.699Z"
   },
   {
    "duration": 3,
    "start_time": "2022-05-04T15:42:09.283Z"
   },
   {
    "duration": 107,
    "start_time": "2022-05-04T15:42:42.744Z"
   },
   {
    "duration": 35,
    "start_time": "2022-05-04T15:43:00.993Z"
   },
   {
    "duration": 14,
    "start_time": "2022-05-04T15:43:15.589Z"
   },
   {
    "duration": 18,
    "start_time": "2022-05-04T15:43:47.155Z"
   },
   {
    "duration": 25,
    "start_time": "2022-05-04T15:43:56.036Z"
   },
   {
    "duration": 18,
    "start_time": "2022-05-04T15:44:02.523Z"
   },
   {
    "duration": 20,
    "start_time": "2022-05-04T15:44:11.888Z"
   },
   {
    "duration": 19,
    "start_time": "2022-05-04T15:44:20.387Z"
   },
   {
    "duration": 23,
    "start_time": "2022-05-04T15:44:26.595Z"
   },
   {
    "duration": 19,
    "start_time": "2022-05-04T15:44:35.559Z"
   },
   {
    "duration": 36,
    "start_time": "2022-05-04T15:45:01.753Z"
   },
   {
    "duration": 19,
    "start_time": "2022-05-04T15:45:07.827Z"
   },
   {
    "duration": 19,
    "start_time": "2022-05-04T15:45:13.263Z"
   },
   {
    "duration": 20,
    "start_time": "2022-05-04T15:45:15.747Z"
   },
   {
    "duration": 31,
    "start_time": "2022-05-04T15:45:23.232Z"
   },
   {
    "duration": 28,
    "start_time": "2022-05-04T15:45:28.697Z"
   },
   {
    "duration": 18,
    "start_time": "2022-05-04T15:45:45.486Z"
   },
   {
    "duration": 27,
    "start_time": "2022-05-04T15:45:48.642Z"
   },
   {
    "duration": 30,
    "start_time": "2022-05-04T15:45:59.050Z"
   },
   {
    "duration": 22,
    "start_time": "2022-05-04T15:46:03.161Z"
   },
   {
    "duration": 19,
    "start_time": "2022-05-04T15:46:27.599Z"
   },
   {
    "duration": 22,
    "start_time": "2022-05-04T15:46:31.797Z"
   },
   {
    "duration": 2000,
    "start_time": "2022-05-04T15:51:33.317Z"
   },
   {
    "duration": 23,
    "start_time": "2022-05-04T15:51:58.091Z"
   },
   {
    "duration": 19,
    "start_time": "2022-05-04T15:52:10.473Z"
   },
   {
    "duration": 86,
    "start_time": "2022-05-04T15:52:21.284Z"
   },
   {
    "duration": 87,
    "start_time": "2022-05-04T15:52:27.396Z"
   },
   {
    "duration": 18,
    "start_time": "2022-05-04T15:52:33.502Z"
   },
   {
    "duration": 83,
    "start_time": "2022-05-04T15:52:46.633Z"
   },
   {
    "duration": 23,
    "start_time": "2022-05-04T15:52:51.556Z"
   },
   {
    "duration": 16,
    "start_time": "2022-05-04T15:54:56.509Z"
   },
   {
    "duration": 4,
    "start_time": "2022-05-04T15:55:00.376Z"
   },
   {
    "duration": 4,
    "start_time": "2022-05-04T15:57:32.523Z"
   },
   {
    "duration": 9,
    "start_time": "2022-05-04T15:57:49.114Z"
   },
   {
    "duration": 4,
    "start_time": "2022-05-04T15:58:19.741Z"
   },
   {
    "duration": 22,
    "start_time": "2022-05-04T15:58:20.553Z"
   },
   {
    "duration": 23,
    "start_time": "2022-05-04T15:58:31.106Z"
   },
   {
    "duration": 41,
    "start_time": "2022-05-04T16:00:41.306Z"
   },
   {
    "duration": 22,
    "start_time": "2022-05-04T16:01:36.573Z"
   },
   {
    "duration": 763,
    "start_time": "2022-05-04T16:01:43.290Z"
   },
   {
    "duration": 27,
    "start_time": "2022-05-04T16:01:44.234Z"
   },
   {
    "duration": 3,
    "start_time": "2022-05-04T16:01:55.744Z"
   },
   {
    "duration": 23,
    "start_time": "2022-05-04T16:01:59.486Z"
   },
   {
    "duration": 24,
    "start_time": "2022-05-04T16:02:28.845Z"
   },
   {
    "duration": 5,
    "start_time": "2022-05-04T16:02:42.047Z"
   },
   {
    "duration": 624,
    "start_time": "2022-05-04T16:02:51.733Z"
   },
   {
    "duration": 32,
    "start_time": "2022-05-04T16:03:34.460Z"
   },
   {
    "duration": 4,
    "start_time": "2022-05-04T16:03:56.018Z"
   },
   {
    "duration": 6,
    "start_time": "2022-05-04T16:04:03.935Z"
   },
   {
    "duration": 82,
    "start_time": "2022-05-04T16:04:25.668Z"
   },
   {
    "duration": 14,
    "start_time": "2022-05-04T16:04:30.707Z"
   },
   {
    "duration": 12,
    "start_time": "2022-05-04T16:04:51.224Z"
   },
   {
    "duration": 13,
    "start_time": "2022-05-04T16:06:09.941Z"
   },
   {
    "duration": 3,
    "start_time": "2022-05-04T16:10:04.256Z"
   },
   {
    "duration": 2,
    "start_time": "2022-05-04T16:10:07.290Z"
   },
   {
    "duration": 660,
    "start_time": "2022-05-04T16:18:42.420Z"
   },
   {
    "duration": 28,
    "start_time": "2022-05-04T16:18:43.082Z"
   },
   {
    "duration": 3,
    "start_time": "2022-05-04T16:18:43.258Z"
   },
   {
    "duration": 13,
    "start_time": "2022-05-04T16:18:43.705Z"
   },
   {
    "duration": 11,
    "start_time": "2022-05-04T16:18:44.940Z"
   },
   {
    "duration": 3,
    "start_time": "2022-05-04T16:21:46.372Z"
   },
   {
    "duration": 3,
    "start_time": "2022-05-04T16:21:54.076Z"
   },
   {
    "duration": 2,
    "start_time": "2022-05-04T16:22:03.418Z"
   },
   {
    "duration": 3,
    "start_time": "2022-05-04T16:22:14.988Z"
   },
   {
    "duration": 3,
    "start_time": "2022-05-04T16:22:23.005Z"
   },
   {
    "duration": 3,
    "start_time": "2022-05-04T16:22:30.552Z"
   },
   {
    "duration": 2,
    "start_time": "2022-05-04T16:22:38.652Z"
   },
   {
    "duration": 2,
    "start_time": "2022-05-04T16:22:47.315Z"
   },
   {
    "duration": 3,
    "start_time": "2022-05-04T16:22:52.815Z"
   },
   {
    "duration": 3,
    "start_time": "2022-05-04T16:22:59.315Z"
   },
   {
    "duration": 2,
    "start_time": "2022-05-04T16:23:05.989Z"
   },
   {
    "duration": 3,
    "start_time": "2022-05-04T16:23:09.057Z"
   },
   {
    "duration": 2,
    "start_time": "2022-05-04T16:23:41.997Z"
   },
   {
    "duration": 661,
    "start_time": "2022-05-04T16:23:58.517Z"
   },
   {
    "duration": 34,
    "start_time": "2022-05-04T16:23:59.180Z"
   },
   {
    "duration": 3,
    "start_time": "2022-05-04T16:23:59.216Z"
   },
   {
    "duration": 22,
    "start_time": "2022-05-04T16:23:59.221Z"
   },
   {
    "duration": 12,
    "start_time": "2022-05-04T16:23:59.288Z"
   },
   {
    "duration": 24,
    "start_time": "2022-05-04T16:30:26.115Z"
   },
   {
    "duration": 31,
    "start_time": "2022-05-04T16:30:47.792Z"
   },
   {
    "duration": 628,
    "start_time": "2022-05-04T16:31:53.054Z"
   },
   {
    "duration": 3,
    "start_time": "2022-05-04T16:31:56.737Z"
   },
   {
    "duration": 35,
    "start_time": "2022-05-04T16:32:03.235Z"
   },
   {
    "duration": 692,
    "start_time": "2022-05-04T16:32:08.615Z"
   },
   {
    "duration": 28,
    "start_time": "2022-05-04T16:32:09.380Z"
   },
   {
    "duration": 4,
    "start_time": "2022-05-04T16:32:20.286Z"
   },
   {
    "duration": 38,
    "start_time": "2022-05-04T16:36:14.721Z"
   },
   {
    "duration": 23,
    "start_time": "2022-05-04T16:36:27.055Z"
   },
   {
    "duration": 456,
    "start_time": "2022-05-04T16:37:08.975Z"
   },
   {
    "duration": 702,
    "start_time": "2022-05-04T16:37:33.377Z"
   },
   {
    "duration": 28,
    "start_time": "2022-05-04T16:37:34.081Z"
   },
   {
    "duration": 4,
    "start_time": "2022-05-04T16:37:34.311Z"
   },
   {
    "duration": 30,
    "start_time": "2022-05-04T16:37:34.846Z"
   },
   {
    "duration": 19,
    "start_time": "2022-05-04T16:37:35.527Z"
   },
   {
    "duration": 404,
    "start_time": "2022-05-04T16:37:36.359Z"
   },
   {
    "duration": 20,
    "start_time": "2022-05-04T16:37:50.769Z"
   },
   {
    "duration": 349,
    "start_time": "2022-05-04T16:38:17.101Z"
   },
   {
    "duration": 28,
    "start_time": "2022-05-04T16:38:33.911Z"
   },
   {
    "duration": 7,
    "start_time": "2022-05-04T17:07:22.352Z"
   },
   {
    "duration": 15,
    "start_time": "2022-05-04T17:07:36.111Z"
   },
   {
    "duration": 399,
    "start_time": "2022-05-04T17:07:55.153Z"
   },
   {
    "duration": 349,
    "start_time": "2022-05-04T17:17:12.952Z"
   },
   {
    "duration": 358,
    "start_time": "2022-05-04T17:18:59.370Z"
   },
   {
    "duration": 629,
    "start_time": "2022-05-04T17:19:52.153Z"
   },
   {
    "duration": 30,
    "start_time": "2022-05-04T17:19:52.784Z"
   },
   {
    "duration": 7,
    "start_time": "2022-05-04T17:19:52.816Z"
   },
   {
    "duration": 33,
    "start_time": "2022-05-04T17:19:52.825Z"
   },
   {
    "duration": 20,
    "start_time": "2022-05-04T17:19:53.016Z"
   },
   {
    "duration": 7,
    "start_time": "2022-05-04T17:19:53.552Z"
   },
   {
    "duration": 12,
    "start_time": "2022-05-04T17:19:54.130Z"
   },
   {
    "duration": 430,
    "start_time": "2022-05-04T17:19:55.013Z"
   },
   {
    "duration": 690,
    "start_time": "2022-05-04T17:35:11.771Z"
   },
   {
    "duration": 34,
    "start_time": "2022-05-04T17:35:12.464Z"
   },
   {
    "duration": 9,
    "start_time": "2022-05-04T17:35:12.500Z"
   },
   {
    "duration": 29,
    "start_time": "2022-05-04T17:35:14.402Z"
   },
   {
    "duration": 17,
    "start_time": "2022-05-04T17:35:14.938Z"
   },
   {
    "duration": 6,
    "start_time": "2022-05-04T17:35:15.537Z"
   },
   {
    "duration": 659,
    "start_time": "2022-05-04T17:35:22.965Z"
   },
   {
    "duration": 30,
    "start_time": "2022-05-04T17:35:23.626Z"
   },
   {
    "duration": 4,
    "start_time": "2022-05-04T17:35:23.950Z"
   },
   {
    "duration": 33,
    "start_time": "2022-05-04T17:35:26.410Z"
   },
   {
    "duration": 16,
    "start_time": "2022-05-04T17:35:27.029Z"
   },
   {
    "duration": 13,
    "start_time": "2022-05-04T17:35:31.095Z"
   },
   {
    "duration": 461,
    "start_time": "2022-05-04T17:35:32.009Z"
   },
   {
    "duration": 664,
    "start_time": "2022-05-04T17:36:20.071Z"
   },
   {
    "duration": 30,
    "start_time": "2022-05-04T17:36:20.737Z"
   },
   {
    "duration": 4,
    "start_time": "2022-05-04T17:36:21.329Z"
   },
   {
    "duration": 30,
    "start_time": "2022-05-04T17:36:21.916Z"
   },
   {
    "duration": 16,
    "start_time": "2022-05-04T17:36:22.444Z"
   },
   {
    "duration": 444,
    "start_time": "2022-05-04T17:36:23.061Z"
   },
   {
    "duration": 8,
    "start_time": "2022-05-04T17:36:42.009Z"
   },
   {
    "duration": 13,
    "start_time": "2022-05-04T17:41:05.529Z"
   },
   {
    "duration": 11,
    "start_time": "2022-05-04T17:45:46.967Z"
   },
   {
    "duration": 26,
    "start_time": "2022-05-04T17:45:48.011Z"
   },
   {
    "duration": 19,
    "start_time": "2022-05-04T17:45:52.299Z"
   },
   {
    "duration": 33,
    "start_time": "2022-05-04T17:46:01.494Z"
   },
   {
    "duration": 701,
    "start_time": "2022-05-04T17:47:46.056Z"
   },
   {
    "duration": 37,
    "start_time": "2022-05-04T17:47:46.819Z"
   },
   {
    "duration": 5,
    "start_time": "2022-05-04T17:47:47.680Z"
   },
   {
    "duration": 28,
    "start_time": "2022-05-04T17:47:48.349Z"
   },
   {
    "duration": 85,
    "start_time": "2022-05-04T17:47:48.644Z"
   },
   {
    "duration": 15,
    "start_time": "2022-05-04T17:47:49.152Z"
   },
   {
    "duration": 806,
    "start_time": "2022-05-04T17:48:20.669Z"
   },
   {
    "duration": 31,
    "start_time": "2022-05-04T17:48:21.477Z"
   },
   {
    "duration": 4,
    "start_time": "2022-05-04T17:48:21.511Z"
   },
   {
    "duration": 31,
    "start_time": "2022-05-04T17:48:21.528Z"
   },
   {
    "duration": 19,
    "start_time": "2022-05-04T17:48:22.005Z"
   },
   {
    "duration": 7,
    "start_time": "2022-05-04T17:48:22.561Z"
   },
   {
    "duration": 19,
    "start_time": "2022-05-04T17:48:23.249Z"
   },
   {
    "duration": 16,
    "start_time": "2022-05-04T17:48:25.623Z"
   },
   {
    "duration": 12,
    "start_time": "2022-05-04T17:48:52.273Z"
   },
   {
    "duration": 27,
    "start_time": "2022-05-04T17:48:53.006Z"
   },
   {
    "duration": 661,
    "start_time": "2022-05-04T17:50:30.938Z"
   },
   {
    "duration": 32,
    "start_time": "2022-05-04T17:50:31.602Z"
   },
   {
    "duration": 4,
    "start_time": "2022-05-04T17:50:31.636Z"
   },
   {
    "duration": 26,
    "start_time": "2022-05-04T17:50:31.642Z"
   },
   {
    "duration": 14,
    "start_time": "2022-05-04T17:50:31.838Z"
   },
   {
    "duration": 6,
    "start_time": "2022-05-04T17:50:32.039Z"
   },
   {
    "duration": 13,
    "start_time": "2022-05-04T17:50:32.495Z"
   },
   {
    "duration": 14,
    "start_time": "2022-05-04T17:50:33.085Z"
   },
   {
    "duration": 16,
    "start_time": "2022-05-04T17:50:34.555Z"
   },
   {
    "duration": 13,
    "start_time": "2022-05-04T17:50:36.372Z"
   },
   {
    "duration": 7,
    "start_time": "2022-05-04T17:51:27.530Z"
   },
   {
    "duration": 18,
    "start_time": "2022-05-04T17:51:33.915Z"
   },
   {
    "duration": 147,
    "start_time": "2022-05-04T18:15:01.635Z"
   },
   {
    "duration": 159,
    "start_time": "2022-05-04T18:15:15.603Z"
   },
   {
    "duration": 238,
    "start_time": "2022-05-04T18:17:23.067Z"
   },
   {
    "duration": 29,
    "start_time": "2022-05-04T18:20:05.558Z"
   },
   {
    "duration": 38,
    "start_time": "2022-05-04T18:21:10.539Z"
   },
   {
    "duration": 12,
    "start_time": "2022-05-04T18:21:53.223Z"
   },
   {
    "duration": 14,
    "start_time": "2022-05-04T18:21:59.711Z"
   },
   {
    "duration": 564,
    "start_time": "2022-05-04T18:22:13.097Z"
   },
   {
    "duration": 484,
    "start_time": "2022-05-04T18:23:22.369Z"
   },
   {
    "duration": 436,
    "start_time": "2022-05-04T18:24:40.449Z"
   },
   {
    "duration": 480,
    "start_time": "2022-05-04T18:24:45.734Z"
   },
   {
    "duration": 483,
    "start_time": "2022-05-04T18:24:56.456Z"
   },
   {
    "duration": 93,
    "start_time": "2022-05-04T18:25:16.883Z"
   },
   {
    "duration": 104,
    "start_time": "2022-05-04T18:26:08.166Z"
   },
   {
    "duration": 483,
    "start_time": "2022-05-04T18:26:12.973Z"
   },
   {
    "duration": 471,
    "start_time": "2022-05-04T18:26:29.074Z"
   },
   {
    "duration": 488,
    "start_time": "2022-05-04T18:26:37.768Z"
   },
   {
    "duration": 507,
    "start_time": "2022-05-04T18:29:04.276Z"
   },
   {
    "duration": 284,
    "start_time": "2022-05-04T18:29:26.477Z"
   },
   {
    "duration": 496,
    "start_time": "2022-05-04T18:29:30.566Z"
   },
   {
    "duration": 449,
    "start_time": "2022-05-04T18:29:40.135Z"
   },
   {
    "duration": 492,
    "start_time": "2022-05-04T18:29:42.192Z"
   },
   {
    "duration": 12,
    "start_time": "2022-05-04T18:33:40.449Z"
   },
   {
    "duration": 18,
    "start_time": "2022-05-04T18:49:49.357Z"
   },
   {
    "duration": 1955,
    "start_time": "2022-05-04T18:51:44.927Z"
   },
   {
    "duration": 577,
    "start_time": "2022-05-04T18:51:57.704Z"
   },
   {
    "duration": 1408,
    "start_time": "2022-05-04T18:52:00.030Z"
   },
   {
    "duration": 13,
    "start_time": "2022-05-04T18:52:16.826Z"
   },
   {
    "duration": 309,
    "start_time": "2022-05-04T18:52:42.575Z"
   },
   {
    "duration": 722,
    "start_time": "2022-05-04T18:53:20.533Z"
   },
   {
    "duration": 30,
    "start_time": "2022-05-04T18:53:21.258Z"
   },
   {
    "duration": 4,
    "start_time": "2022-05-04T18:53:21.290Z"
   },
   {
    "duration": 49,
    "start_time": "2022-05-04T18:53:21.308Z"
   },
   {
    "duration": 32,
    "start_time": "2022-05-04T18:53:21.359Z"
   },
   {
    "duration": 8,
    "start_time": "2022-05-04T18:53:21.394Z"
   },
   {
    "duration": 22,
    "start_time": "2022-05-04T18:53:21.911Z"
   },
   {
    "duration": 14,
    "start_time": "2022-05-04T18:53:22.153Z"
   },
   {
    "duration": 17,
    "start_time": "2022-05-04T18:53:23.624Z"
   },
   {
    "duration": 16,
    "start_time": "2022-05-04T18:53:24.001Z"
   },
   {
    "duration": 476,
    "start_time": "2022-05-04T18:53:33.407Z"
   },
   {
    "duration": 614,
    "start_time": "2022-05-04T18:54:51.991Z"
   },
   {
    "duration": 16,
    "start_time": "2022-05-04T18:55:01.411Z"
   },
   {
    "duration": 568,
    "start_time": "2022-05-04T18:56:13.519Z"
   },
   {
    "duration": 213,
    "start_time": "2022-05-04T18:56:56.067Z"
   },
   {
    "duration": 394,
    "start_time": "2022-05-04T18:57:06.533Z"
   },
   {
    "duration": 145,
    "start_time": "2022-05-05T16:18:18.153Z"
   },
   {
    "duration": 82,
    "start_time": "2022-05-05T16:20:10.702Z"
   },
   {
    "duration": 1338,
    "start_time": "2022-05-05T16:20:23.855Z"
   },
   {
    "duration": 58,
    "start_time": "2022-05-05T16:20:25.196Z"
   },
   {
    "duration": 6,
    "start_time": "2022-05-05T16:20:25.257Z"
   },
   {
    "duration": 40,
    "start_time": "2022-05-05T16:20:25.266Z"
   },
   {
    "duration": 23,
    "start_time": "2022-05-05T16:20:25.308Z"
   },
   {
    "duration": 22,
    "start_time": "2022-05-05T16:20:25.333Z"
   },
   {
    "duration": 21,
    "start_time": "2022-05-05T16:20:25.358Z"
   },
   {
    "duration": 22,
    "start_time": "2022-05-05T16:20:25.381Z"
   },
   {
    "duration": 21,
    "start_time": "2022-05-05T16:20:25.690Z"
   },
   {
    "duration": 17,
    "start_time": "2022-05-05T16:20:26.025Z"
   },
   {
    "duration": 1465,
    "start_time": "2022-05-05T16:20:26.612Z"
   },
   {
    "duration": 899,
    "start_time": "2022-05-05T16:20:34.988Z"
   },
   {
    "duration": 173,
    "start_time": "2022-05-05T16:21:54.864Z"
   },
   {
    "duration": 877,
    "start_time": "2022-05-05T16:22:25.212Z"
   },
   {
    "duration": 862,
    "start_time": "2022-05-05T16:23:00.016Z"
   },
   {
    "duration": 823,
    "start_time": "2022-05-05T16:23:49.161Z"
   },
   {
    "duration": 797,
    "start_time": "2022-05-05T16:25:04.218Z"
   },
   {
    "duration": 824,
    "start_time": "2022-05-05T16:25:29.091Z"
   },
   {
    "duration": 801,
    "start_time": "2022-05-05T16:25:54.570Z"
   },
   {
    "duration": 759,
    "start_time": "2022-05-05T16:26:32.318Z"
   },
   {
    "duration": 762,
    "start_time": "2022-05-05T16:27:16.254Z"
   },
   {
    "duration": 755,
    "start_time": "2022-05-05T16:27:21.679Z"
   },
   {
    "duration": 39,
    "start_time": "2022-05-05T16:27:49.085Z"
   },
   {
    "duration": 753,
    "start_time": "2022-05-05T16:28:06.384Z"
   },
   {
    "duration": 751,
    "start_time": "2022-05-05T16:28:21.456Z"
   },
   {
    "duration": 39,
    "start_time": "2022-05-05T16:30:43.840Z"
   },
   {
    "duration": 768,
    "start_time": "2022-05-05T16:30:55.623Z"
   },
   {
    "duration": 832,
    "start_time": "2022-05-05T16:31:04.161Z"
   },
   {
    "duration": 768,
    "start_time": "2022-05-05T16:31:48.450Z"
   },
   {
    "duration": 18,
    "start_time": "2022-05-05T16:31:52.533Z"
   },
   {
    "duration": 1083,
    "start_time": "2022-05-05T16:32:23.020Z"
   },
   {
    "duration": 16,
    "start_time": "2022-05-05T16:32:30.626Z"
   },
   {
    "duration": 12,
    "start_time": "2022-05-05T16:32:37.482Z"
   },
   {
    "duration": 16,
    "start_time": "2022-05-05T16:32:41.747Z"
   },
   {
    "duration": 12,
    "start_time": "2022-05-05T16:32:44.565Z"
   },
   {
    "duration": 1167,
    "start_time": "2022-05-05T16:35:14.254Z"
   },
   {
    "duration": 119,
    "start_time": "2022-05-05T16:37:06.239Z"
   },
   {
    "duration": 810,
    "start_time": "2022-05-05T16:37:16.745Z"
   },
   {
    "duration": 6,
    "start_time": "2022-05-05T16:37:45.170Z"
   },
   {
    "duration": 1982,
    "start_time": "2022-05-05T16:38:08.529Z"
   },
   {
    "duration": 14,
    "start_time": "2022-05-05T16:38:15.629Z"
   },
   {
    "duration": 371,
    "start_time": "2022-05-05T16:43:35.833Z"
   },
   {
    "duration": 495,
    "start_time": "2022-05-05T16:49:56.077Z"
   },
   {
    "duration": 18,
    "start_time": "2022-05-05T16:50:03.527Z"
   },
   {
    "duration": 852,
    "start_time": "2022-05-05T16:50:07.657Z"
   },
   {
    "duration": 17,
    "start_time": "2022-05-05T16:50:50.934Z"
   },
   {
    "duration": 23,
    "start_time": "2022-05-05T16:51:27.169Z"
   },
   {
    "duration": 845,
    "start_time": "2022-05-05T16:52:19.623Z"
   },
   {
    "duration": 362,
    "start_time": "2022-05-05T16:52:21.525Z"
   },
   {
    "duration": 21,
    "start_time": "2022-05-05T16:54:03.135Z"
   },
   {
    "duration": 16,
    "start_time": "2022-05-05T16:58:08.011Z"
   },
   {
    "duration": 367,
    "start_time": "2022-05-05T17:02:58.385Z"
   },
   {
    "duration": 239,
    "start_time": "2022-05-05T17:12:13.636Z"
   },
   {
    "duration": 344,
    "start_time": "2022-05-05T17:12:16.942Z"
   },
   {
    "duration": 243,
    "start_time": "2022-05-05T17:12:20.765Z"
   },
   {
    "duration": 313,
    "start_time": "2022-05-05T17:12:37.909Z"
   },
   {
    "duration": 23,
    "start_time": "2022-05-05T17:12:52.750Z"
   },
   {
    "duration": 13,
    "start_time": "2022-05-05T17:18:16.407Z"
   },
   {
    "duration": 587,
    "start_time": "2022-05-05T17:25:42.152Z"
   },
   {
    "duration": 395,
    "start_time": "2022-05-05T17:29:04.244Z"
   },
   {
    "duration": 429,
    "start_time": "2022-05-05T17:29:09.949Z"
   },
   {
    "duration": 452,
    "start_time": "2022-05-05T17:29:13.315Z"
   },
   {
    "duration": 320,
    "start_time": "2022-05-05T17:29:18.426Z"
   },
   {
    "duration": 316,
    "start_time": "2022-05-05T17:29:22.176Z"
   },
   {
    "duration": 310,
    "start_time": "2022-05-05T17:29:25.483Z"
   },
   {
    "duration": 441,
    "start_time": "2022-05-05T17:29:28.329Z"
   },
   {
    "duration": 303,
    "start_time": "2022-05-05T17:29:34.762Z"
   },
   {
    "duration": 307,
    "start_time": "2022-05-05T17:29:38.579Z"
   },
   {
    "duration": 443,
    "start_time": "2022-05-05T17:29:41.011Z"
   },
   {
    "duration": 527,
    "start_time": "2022-05-05T17:33:23.046Z"
   },
   {
    "duration": 367,
    "start_time": "2022-05-05T17:33:34.871Z"
   },
   {
    "duration": 2154,
    "start_time": "2022-05-05T17:41:45.067Z"
   },
   {
    "duration": 20,
    "start_time": "2022-05-05T17:41:56.631Z"
   },
   {
    "duration": 2653,
    "start_time": "2022-05-05T17:42:10.864Z"
   },
   {
    "duration": 622,
    "start_time": "2022-05-05T17:42:46.977Z"
   },
   {
    "duration": 489,
    "start_time": "2022-05-05T17:43:06.297Z"
   },
   {
    "duration": 694,
    "start_time": "2022-05-05T17:43:31.497Z"
   },
   {
    "duration": 560,
    "start_time": "2022-05-05T17:43:41.675Z"
   },
   {
    "duration": 15,
    "start_time": "2022-05-05T17:57:10.097Z"
   },
   {
    "duration": 17,
    "start_time": "2022-05-05T17:57:28.093Z"
   },
   {
    "duration": 15,
    "start_time": "2022-05-05T17:57:41.079Z"
   },
   {
    "duration": 456,
    "start_time": "2022-05-05T17:58:36.493Z"
   },
   {
    "duration": 477,
    "start_time": "2022-05-05T17:59:10.203Z"
   },
   {
    "duration": 463,
    "start_time": "2022-05-05T17:59:20.567Z"
   },
   {
    "duration": 449,
    "start_time": "2022-05-05T17:59:31.356Z"
   },
   {
    "duration": 489,
    "start_time": "2022-05-05T18:00:15.335Z"
   },
   {
    "duration": 15,
    "start_time": "2022-05-05T18:00:18.529Z"
   },
   {
    "duration": 515,
    "start_time": "2022-05-05T18:00:35.249Z"
   },
   {
    "duration": 18,
    "start_time": "2022-05-05T18:01:11.276Z"
   },
   {
    "duration": 12,
    "start_time": "2022-05-05T18:01:35.559Z"
   },
   {
    "duration": 175,
    "start_time": "2022-05-05T18:01:41.087Z"
   },
   {
    "duration": 241,
    "start_time": "2022-05-05T18:02:08.987Z"
   },
   {
    "duration": 7,
    "start_time": "2022-05-05T18:04:54.795Z"
   },
   {
    "duration": 6,
    "start_time": "2022-05-05T18:04:57.625Z"
   },
   {
    "duration": 117,
    "start_time": "2022-05-05T18:08:13.722Z"
   },
   {
    "duration": 355,
    "start_time": "2022-05-05T18:11:11.899Z"
   },
   {
    "duration": 13,
    "start_time": "2022-05-05T18:11:12.946Z"
   },
   {
    "duration": 260,
    "start_time": "2022-05-05T18:11:27.279Z"
   },
   {
    "duration": 6,
    "start_time": "2022-05-05T18:12:01.041Z"
   },
   {
    "duration": 7,
    "start_time": "2022-05-05T18:14:10.318Z"
   },
   {
    "duration": 6,
    "start_time": "2022-05-05T18:14:19.976Z"
   },
   {
    "duration": 6,
    "start_time": "2022-05-05T18:14:23.685Z"
   },
   {
    "duration": 1224,
    "start_time": "2022-05-07T11:25:33.695Z"
   },
   {
    "duration": 42,
    "start_time": "2022-05-07T11:25:34.921Z"
   },
   {
    "duration": 3,
    "start_time": "2022-05-07T11:25:34.964Z"
   },
   {
    "duration": 43,
    "start_time": "2022-05-07T11:25:34.969Z"
   },
   {
    "duration": 34,
    "start_time": "2022-05-07T11:25:35.132Z"
   },
   {
    "duration": 6,
    "start_time": "2022-05-07T11:25:35.358Z"
   },
   {
    "duration": 12,
    "start_time": "2022-05-07T11:25:35.609Z"
   },
   {
    "duration": 12,
    "start_time": "2022-05-07T11:25:35.814Z"
   },
   {
    "duration": 13,
    "start_time": "2022-05-07T11:25:36.176Z"
   },
   {
    "duration": 11,
    "start_time": "2022-05-07T11:25:36.361Z"
   },
   {
    "duration": 518,
    "start_time": "2022-05-07T11:25:36.908Z"
   },
   {
    "duration": 205,
    "start_time": "2022-05-07T11:25:37.428Z"
   },
   {
    "duration": 342,
    "start_time": "2022-05-07T11:25:37.667Z"
   },
   {
    "duration": 206,
    "start_time": "2022-05-07T11:25:38.052Z"
   },
   {
    "duration": 270,
    "start_time": "2022-05-07T11:25:38.430Z"
   },
   {
    "duration": 143,
    "start_time": "2022-05-07T11:25:38.854Z"
   },
   {
    "duration": 5,
    "start_time": "2022-05-07T11:25:39.594Z"
   },
   {
    "duration": 141,
    "start_time": "2022-05-07T11:25:40.467Z"
   },
   {
    "duration": 4,
    "start_time": "2022-05-07T11:25:41.360Z"
   },
   {
    "duration": 1282,
    "start_time": "2022-05-07T11:40:43.156Z"
   },
   {
    "duration": 887,
    "start_time": "2022-05-07T11:41:18.730Z"
   },
   {
    "duration": 45,
    "start_time": "2022-05-07T11:42:17.862Z"
   },
   {
    "duration": 51,
    "start_time": "2022-05-07T12:00:41.309Z"
   },
   {
    "duration": 893,
    "start_time": "2022-05-07T12:00:52.028Z"
   },
   {
    "duration": 53,
    "start_time": "2022-05-07T12:00:58.917Z"
   },
   {
    "duration": 89,
    "start_time": "2022-05-07T12:01:16.261Z"
   },
   {
    "duration": 12,
    "start_time": "2022-05-07T12:01:29.410Z"
   },
   {
    "duration": 61,
    "start_time": "2022-05-07T12:02:26.036Z"
   },
   {
    "duration": 51,
    "start_time": "2022-05-07T12:02:30.469Z"
   },
   {
    "duration": 51,
    "start_time": "2022-05-07T12:02:45.893Z"
   },
   {
    "duration": 47,
    "start_time": "2022-05-07T12:02:51.643Z"
   },
   {
    "duration": 51,
    "start_time": "2022-05-07T12:02:58.125Z"
   },
   {
    "duration": 4,
    "start_time": "2022-05-07T12:03:03.182Z"
   },
   {
    "duration": 52,
    "start_time": "2022-05-07T12:03:06.750Z"
   },
   {
    "duration": 53,
    "start_time": "2022-05-07T12:04:53.586Z"
   },
   {
    "duration": 53,
    "start_time": "2022-05-07T12:05:01.766Z"
   },
   {
    "duration": 1010,
    "start_time": "2022-05-07T12:12:29.251Z"
   },
   {
    "duration": 18,
    "start_time": "2022-05-07T12:13:06.001Z"
   },
   {
    "duration": 1357,
    "start_time": "2022-05-07T12:13:08.485Z"
   },
   {
    "duration": 1523,
    "start_time": "2022-05-07T12:15:06.597Z"
   },
   {
    "duration": 92,
    "start_time": "2022-05-07T12:15:46.252Z"
   },
   {
    "duration": 851,
    "start_time": "2022-05-07T12:27:47.105Z"
   },
   {
    "duration": 99,
    "start_time": "2022-05-07T16:07:17.623Z"
   },
   {
    "duration": 68,
    "start_time": "2022-05-07T16:07:39.788Z"
   },
   {
    "duration": 1332,
    "start_time": "2022-05-07T16:08:23.180Z"
   },
   {
    "duration": 33,
    "start_time": "2022-05-07T16:08:24.516Z"
   },
   {
    "duration": 4,
    "start_time": "2022-05-07T16:08:24.551Z"
   },
   {
    "duration": 29,
    "start_time": "2022-05-07T16:08:24.557Z"
   },
   {
    "duration": 14,
    "start_time": "2022-05-07T16:08:24.588Z"
   },
   {
    "duration": 12,
    "start_time": "2022-05-07T16:08:24.604Z"
   },
   {
    "duration": 14,
    "start_time": "2022-05-07T16:08:24.618Z"
   },
   {
    "duration": 11,
    "start_time": "2022-05-07T16:08:24.633Z"
   },
   {
    "duration": 11,
    "start_time": "2022-05-07T16:08:24.646Z"
   },
   {
    "duration": 16,
    "start_time": "2022-05-07T16:08:24.791Z"
   },
   {
    "duration": 597,
    "start_time": "2022-05-07T16:08:25.285Z"
   },
   {
    "duration": 238,
    "start_time": "2022-05-07T16:08:25.885Z"
   },
   {
    "duration": 366,
    "start_time": "2022-05-07T16:08:26.125Z"
   },
   {
    "duration": 262,
    "start_time": "2022-05-07T16:08:26.493Z"
   },
   {
    "duration": 310,
    "start_time": "2022-05-07T16:08:26.757Z"
   },
   {
    "duration": 185,
    "start_time": "2022-05-07T16:08:27.070Z"
   },
   {
    "duration": 5,
    "start_time": "2022-05-07T16:08:28.000Z"
   },
   {
    "duration": 183,
    "start_time": "2022-05-07T16:08:28.812Z"
   },
   {
    "duration": 5,
    "start_time": "2022-05-07T16:08:29.817Z"
   },
   {
    "duration": 201,
    "start_time": "2022-05-07T16:08:31.207Z"
   },
   {
    "duration": 210,
    "start_time": "2022-05-07T16:08:42.136Z"
   },
   {
    "duration": 238,
    "start_time": "2022-05-07T16:11:18.365Z"
   },
   {
    "duration": 233,
    "start_time": "2022-05-07T16:11:21.564Z"
   },
   {
    "duration": 275,
    "start_time": "2022-05-07T16:11:32.236Z"
   },
   {
    "duration": 224,
    "start_time": "2022-05-07T16:11:35.172Z"
   },
   {
    "duration": 229,
    "start_time": "2022-05-07T16:11:42.346Z"
   },
   {
    "duration": 261,
    "start_time": "2022-05-07T16:11:49.345Z"
   },
   {
    "duration": 141,
    "start_time": "2022-05-07T16:20:25.329Z"
   },
   {
    "duration": 8,
    "start_time": "2022-05-07T16:21:39.148Z"
   },
   {
    "duration": 9,
    "start_time": "2022-05-07T16:21:44.172Z"
   },
   {
    "duration": 95,
    "start_time": "2022-05-07T16:22:02.459Z"
   },
   {
    "duration": 7,
    "start_time": "2022-05-07T16:22:06.718Z"
   },
   {
    "duration": 7,
    "start_time": "2022-05-07T16:22:19.350Z"
   },
   {
    "duration": 7,
    "start_time": "2022-05-07T16:22:25.380Z"
   },
   {
    "duration": 6,
    "start_time": "2022-05-07T16:22:36.162Z"
   },
   {
    "duration": 5,
    "start_time": "2022-05-07T16:22:40.293Z"
   },
   {
    "duration": 5,
    "start_time": "2022-05-07T16:22:43.627Z"
   },
   {
    "duration": 6,
    "start_time": "2022-05-07T16:22:48.274Z"
   },
   {
    "duration": 9,
    "start_time": "2022-05-07T16:23:21.821Z"
   },
   {
    "duration": 10,
    "start_time": "2022-05-07T16:23:32.374Z"
   },
   {
    "duration": 8,
    "start_time": "2022-05-07T16:23:40.148Z"
   },
   {
    "duration": 111,
    "start_time": "2022-05-07T16:23:58.184Z"
   },
   {
    "duration": 7,
    "start_time": "2022-05-07T16:24:04.751Z"
   },
   {
    "duration": 9,
    "start_time": "2022-05-07T16:24:23.589Z"
   },
   {
    "duration": 168,
    "start_time": "2022-05-07T16:26:06.979Z"
   },
   {
    "duration": 6,
    "start_time": "2022-05-07T16:26:07.739Z"
   },
   {
    "duration": 223,
    "start_time": "2022-05-07T16:30:14.303Z"
   },
   {
    "duration": 208,
    "start_time": "2022-05-07T16:31:10.237Z"
   },
   {
    "duration": 159,
    "start_time": "2022-05-07T16:32:58.632Z"
   },
   {
    "duration": 191,
    "start_time": "2022-05-07T16:33:07.292Z"
   },
   {
    "duration": 177,
    "start_time": "2022-05-07T16:33:59.003Z"
   },
   {
    "duration": 206,
    "start_time": "2022-05-07T16:38:19.722Z"
   },
   {
    "duration": 163,
    "start_time": "2022-05-07T16:38:54.167Z"
   },
   {
    "duration": 194,
    "start_time": "2022-05-07T16:39:13.256Z"
   },
   {
    "duration": 159,
    "start_time": "2022-05-07T16:39:24.012Z"
   },
   {
    "duration": 182,
    "start_time": "2022-05-07T16:39:32.950Z"
   },
   {
    "duration": 186,
    "start_time": "2022-05-07T16:39:39.856Z"
   },
   {
    "duration": 171,
    "start_time": "2022-05-07T16:40:05.191Z"
   },
   {
    "duration": 11,
    "start_time": "2022-05-07T16:41:16.375Z"
   },
   {
    "duration": 13,
    "start_time": "2022-05-07T16:45:56.019Z"
   },
   {
    "duration": 204,
    "start_time": "2022-05-07T16:47:12.653Z"
   },
   {
    "duration": 16,
    "start_time": "2022-05-07T16:47:15.238Z"
   },
   {
    "duration": 10,
    "start_time": "2022-05-07T16:50:19.596Z"
   },
   {
    "duration": 9,
    "start_time": "2022-05-07T16:50:25.739Z"
   },
   {
    "duration": 11,
    "start_time": "2022-05-07T16:50:32.884Z"
   },
   {
    "duration": 10,
    "start_time": "2022-05-07T16:50:38.535Z"
   },
   {
    "duration": 4,
    "start_time": "2022-05-07T16:52:42.350Z"
   },
   {
    "duration": 10,
    "start_time": "2022-05-07T16:54:19.431Z"
   },
   {
    "duration": 13,
    "start_time": "2022-05-07T16:57:57.843Z"
   },
   {
    "duration": 9,
    "start_time": "2022-05-07T17:02:26.751Z"
   },
   {
    "duration": 11,
    "start_time": "2022-05-07T17:02:50.353Z"
   },
   {
    "duration": 12,
    "start_time": "2022-05-07T17:02:56.601Z"
   },
   {
    "duration": 9,
    "start_time": "2022-05-07T17:03:15.086Z"
   },
   {
    "duration": 10,
    "start_time": "2022-05-07T17:03:48.005Z"
   },
   {
    "duration": 11,
    "start_time": "2022-05-07T17:03:55.119Z"
   },
   {
    "duration": 9,
    "start_time": "2022-05-07T17:04:02.489Z"
   },
   {
    "duration": 8,
    "start_time": "2022-05-07T17:04:19.462Z"
   },
   {
    "duration": 11,
    "start_time": "2022-05-07T17:05:13.502Z"
   },
   {
    "duration": 6,
    "start_time": "2022-05-07T17:05:31.443Z"
   },
   {
    "duration": 6,
    "start_time": "2022-05-07T17:05:41.454Z"
   },
   {
    "duration": 7,
    "start_time": "2022-05-07T17:05:45.591Z"
   },
   {
    "duration": 10,
    "start_time": "2022-05-07T17:06:42.806Z"
   },
   {
    "duration": 13,
    "start_time": "2022-05-07T17:06:47.210Z"
   },
   {
    "duration": 10,
    "start_time": "2022-05-07T17:07:08.341Z"
   },
   {
    "duration": 13,
    "start_time": "2022-05-07T17:52:45.802Z"
   },
   {
    "duration": 3,
    "start_time": "2022-05-07T17:52:50.611Z"
   },
   {
    "duration": 12,
    "start_time": "2022-05-07T18:05:38.755Z"
   },
   {
    "duration": 39,
    "start_time": "2022-05-07T18:05:52.685Z"
   },
   {
    "duration": 43,
    "start_time": "2022-05-07T18:05:56.244Z"
   },
   {
    "duration": 1407,
    "start_time": "2022-05-07T18:07:27.467Z"
   },
   {
    "duration": 16,
    "start_time": "2022-05-07T18:09:02.236Z"
   },
   {
    "duration": 16,
    "start_time": "2022-05-07T18:09:28.051Z"
   },
   {
    "duration": 4,
    "start_time": "2022-05-08T07:27:26.690Z"
   },
   {
    "duration": 3,
    "start_time": "2022-05-08T07:27:33.337Z"
   },
   {
    "duration": 3,
    "start_time": "2022-05-08T07:27:35.638Z"
   },
   {
    "duration": 1617,
    "start_time": "2022-05-08T07:27:43.073Z"
   },
   {
    "duration": 43,
    "start_time": "2022-05-08T07:27:44.693Z"
   },
   {
    "duration": 4,
    "start_time": "2022-05-08T07:27:44.739Z"
   },
   {
    "duration": 27,
    "start_time": "2022-05-08T07:27:44.751Z"
   },
   {
    "duration": 17,
    "start_time": "2022-05-08T07:27:44.780Z"
   },
   {
    "duration": 8,
    "start_time": "2022-05-08T07:27:44.799Z"
   },
   {
    "duration": 23,
    "start_time": "2022-05-08T07:27:44.809Z"
   },
   {
    "duration": 17,
    "start_time": "2022-05-08T07:27:44.853Z"
   },
   {
    "duration": 18,
    "start_time": "2022-05-08T07:27:44.873Z"
   },
   {
    "duration": 15,
    "start_time": "2022-05-08T07:27:44.893Z"
   },
   {
    "duration": 934,
    "start_time": "2022-05-08T07:27:44.911Z"
   },
   {
    "duration": 341,
    "start_time": "2022-05-08T07:27:45.851Z"
   },
   {
    "duration": 487,
    "start_time": "2022-05-08T07:27:46.195Z"
   },
   {
    "duration": 350,
    "start_time": "2022-05-08T07:27:46.685Z"
   },
   {
    "duration": 411,
    "start_time": "2022-05-08T07:27:47.595Z"
   },
   {
    "duration": 241,
    "start_time": "2022-05-08T07:27:48.449Z"
   },
   {
    "duration": 6,
    "start_time": "2022-05-08T07:27:50.554Z"
   },
   {
    "duration": 281,
    "start_time": "2022-05-08T07:28:03.548Z"
   },
   {
    "duration": 7,
    "start_time": "2022-05-08T07:28:05.118Z"
   },
   {
    "duration": 393,
    "start_time": "2022-05-08T07:28:06.315Z"
   },
   {
    "duration": 319,
    "start_time": "2022-05-08T07:28:07.065Z"
   },
   {
    "duration": 17,
    "start_time": "2022-05-08T07:28:18.255Z"
   },
   {
    "duration": 13,
    "start_time": "2022-05-08T07:28:22.903Z"
   },
   {
    "duration": 11,
    "start_time": "2022-05-08T07:30:51.606Z"
   },
   {
    "duration": 128,
    "start_time": "2022-05-08T07:34:09.666Z"
   },
   {
    "duration": 104,
    "start_time": "2022-05-08T07:34:19.308Z"
   },
   {
    "duration": 6,
    "start_time": "2022-05-08T07:34:36.913Z"
   },
   {
    "duration": 133,
    "start_time": "2022-05-08T07:34:50.563Z"
   },
   {
    "duration": 6,
    "start_time": "2022-05-08T07:35:16.967Z"
   },
   {
    "duration": 160,
    "start_time": "2022-05-08T07:44:59.529Z"
   },
   {
    "duration": 2094,
    "start_time": "2022-05-08T07:45:08.336Z"
   },
   {
    "duration": 12,
    "start_time": "2022-05-08T07:45:24.655Z"
   },
   {
    "duration": 40,
    "start_time": "2022-05-08T07:48:43.127Z"
   },
   {
    "duration": 40,
    "start_time": "2022-05-08T07:49:08.289Z"
   },
   {
    "duration": 41,
    "start_time": "2022-05-08T07:49:36.634Z"
   },
   {
    "duration": 30,
    "start_time": "2022-05-08T07:56:15.290Z"
   },
   {
    "duration": 40,
    "start_time": "2022-05-08T07:56:23.245Z"
   },
   {
    "duration": 26,
    "start_time": "2022-05-08T07:56:24.494Z"
   },
   {
    "duration": 17,
    "start_time": "2022-05-08T07:56:40.631Z"
   },
   {
    "duration": 16,
    "start_time": "2022-05-08T07:56:54.534Z"
   },
   {
    "duration": 2416,
    "start_time": "2022-05-08T08:00:06.264Z"
   },
   {
    "duration": 18,
    "start_time": "2022-05-08T08:01:30.193Z"
   },
   {
    "duration": 11,
    "start_time": "2022-05-08T08:05:00.949Z"
   },
   {
    "duration": 46,
    "start_time": "2022-05-08T08:07:34.284Z"
   },
   {
    "duration": 17,
    "start_time": "2022-05-08T08:09:15.892Z"
   },
   {
    "duration": 21,
    "start_time": "2022-05-08T08:09:26.652Z"
   },
   {
    "duration": 17,
    "start_time": "2022-05-08T08:09:37.027Z"
   },
   {
    "duration": 4,
    "start_time": "2022-05-08T08:12:01.854Z"
   },
   {
    "duration": 1401,
    "start_time": "2022-05-08T08:38:04.039Z"
   },
   {
    "duration": 50,
    "start_time": "2022-05-08T08:38:05.442Z"
   },
   {
    "duration": 4,
    "start_time": "2022-05-08T08:38:05.494Z"
   },
   {
    "duration": 31,
    "start_time": "2022-05-08T08:38:05.501Z"
   },
   {
    "duration": 23,
    "start_time": "2022-05-08T08:38:05.534Z"
   },
   {
    "duration": 10,
    "start_time": "2022-05-08T08:38:05.559Z"
   },
   {
    "duration": 18,
    "start_time": "2022-05-08T08:38:05.573Z"
   },
   {
    "duration": 24,
    "start_time": "2022-05-08T08:38:05.593Z"
   },
   {
    "duration": 51,
    "start_time": "2022-05-08T08:38:05.619Z"
   },
   {
    "duration": 19,
    "start_time": "2022-05-08T08:38:05.675Z"
   },
   {
    "duration": 1276,
    "start_time": "2022-05-08T08:38:05.696Z"
   },
   {
    "duration": 446,
    "start_time": "2022-05-08T08:38:06.974Z"
   },
   {
    "duration": 510,
    "start_time": "2022-05-08T08:38:07.422Z"
   },
   {
    "duration": 364,
    "start_time": "2022-05-08T08:38:07.934Z"
   },
   {
    "duration": 487,
    "start_time": "2022-05-08T08:38:08.300Z"
   },
   {
    "duration": 310,
    "start_time": "2022-05-08T08:38:08.789Z"
   },
   {
    "duration": 5,
    "start_time": "2022-05-08T08:38:09.102Z"
   },
   {
    "duration": 278,
    "start_time": "2022-05-08T08:38:09.109Z"
   },
   {
    "duration": 6,
    "start_time": "2022-05-08T08:38:09.390Z"
   },
   {
    "duration": 439,
    "start_time": "2022-05-08T08:38:09.399Z"
   },
   {
    "duration": 448,
    "start_time": "2022-05-08T08:38:09.841Z"
   },
   {
    "duration": 21,
    "start_time": "2022-05-08T08:38:10.292Z"
   },
   {
    "duration": 43,
    "start_time": "2022-05-08T08:38:10.317Z"
   },
   {
    "duration": 62,
    "start_time": "2022-05-08T08:38:10.363Z"
   },
   {
    "duration": 42,
    "start_time": "2022-05-08T08:38:10.428Z"
   },
   {
    "duration": 15,
    "start_time": "2022-05-08T08:38:10.473Z"
   },
   {
    "duration": 805,
    "start_time": "2022-05-08T08:40:14.822Z"
   },
   {
    "duration": 891,
    "start_time": "2022-05-08T08:40:31.933Z"
   },
   {
    "duration": 795,
    "start_time": "2022-05-08T08:40:52.258Z"
   },
   {
    "duration": 540,
    "start_time": "2022-05-08T08:41:14.012Z"
   },
   {
    "duration": 491,
    "start_time": "2022-05-08T08:41:39.038Z"
   },
   {
    "duration": 1077,
    "start_time": "2022-05-08T08:42:02.617Z"
   },
   {
    "duration": 485,
    "start_time": "2022-05-08T08:42:11.467Z"
   },
   {
    "duration": 570,
    "start_time": "2022-05-08T08:42:55.792Z"
   },
   {
    "duration": 457,
    "start_time": "2022-05-08T08:43:30.095Z"
   },
   {
    "duration": 484,
    "start_time": "2022-05-08T08:44:09.126Z"
   },
   {
    "duration": 383,
    "start_time": "2022-05-08T08:44:12.013Z"
   },
   {
    "duration": 496,
    "start_time": "2022-05-08T08:44:23.411Z"
   },
   {
    "duration": 278,
    "start_time": "2022-05-08T08:46:00.119Z"
   },
   {
    "duration": 377,
    "start_time": "2022-05-08T08:46:52.842Z"
   },
   {
    "duration": 1412,
    "start_time": "2022-05-08T08:47:09.802Z"
   },
   {
    "duration": 44,
    "start_time": "2022-05-08T08:47:11.217Z"
   },
   {
    "duration": 5,
    "start_time": "2022-05-08T08:47:11.264Z"
   },
   {
    "duration": 39,
    "start_time": "2022-05-08T08:47:11.274Z"
   },
   {
    "duration": 17,
    "start_time": "2022-05-08T08:47:11.315Z"
   },
   {
    "duration": 35,
    "start_time": "2022-05-08T08:47:11.334Z"
   },
   {
    "duration": 40,
    "start_time": "2022-05-08T08:47:11.371Z"
   },
   {
    "duration": 21,
    "start_time": "2022-05-08T08:47:11.414Z"
   },
   {
    "duration": 18,
    "start_time": "2022-05-08T08:47:11.438Z"
   },
   {
    "duration": 17,
    "start_time": "2022-05-08T08:47:11.459Z"
   },
   {
    "duration": 960,
    "start_time": "2022-05-08T08:47:11.936Z"
   },
   {
    "duration": 389,
    "start_time": "2022-05-08T08:47:12.900Z"
   },
   {
    "duration": 518,
    "start_time": "2022-05-08T08:47:13.292Z"
   },
   {
    "duration": 420,
    "start_time": "2022-05-08T08:47:13.812Z"
   },
   {
    "duration": 641,
    "start_time": "2022-05-08T08:47:14.235Z"
   },
   {
    "duration": 294,
    "start_time": "2022-05-08T08:47:14.878Z"
   },
   {
    "duration": 7,
    "start_time": "2022-05-08T08:47:15.175Z"
   },
   {
    "duration": 321,
    "start_time": "2022-05-08T08:47:15.185Z"
   },
   {
    "duration": 6,
    "start_time": "2022-05-08T08:47:15.508Z"
   },
   {
    "duration": 400,
    "start_time": "2022-05-08T08:47:15.517Z"
   },
   {
    "duration": 311,
    "start_time": "2022-05-08T08:47:15.922Z"
   },
   {
    "duration": 32,
    "start_time": "2022-05-08T08:47:16.235Z"
   },
   {
    "duration": 21,
    "start_time": "2022-05-08T08:47:16.377Z"
   },
   {
    "duration": 45,
    "start_time": "2022-05-08T08:47:16.745Z"
   },
   {
    "duration": 18,
    "start_time": "2022-05-08T08:47:17.565Z"
   },
   {
    "duration": 4,
    "start_time": "2022-05-08T08:47:18.538Z"
   },
   {
    "duration": 5,
    "start_time": "2022-05-08T08:49:51.388Z"
   },
   {
    "duration": 35,
    "start_time": "2022-05-08T08:49:51.422Z"
   },
   {
    "duration": 4,
    "start_time": "2022-05-08T08:49:51.464Z"
   },
   {
    "duration": 29,
    "start_time": "2022-05-08T08:49:51.506Z"
   },
   {
    "duration": 21,
    "start_time": "2022-05-08T08:49:51.552Z"
   },
   {
    "duration": 11,
    "start_time": "2022-05-08T08:49:51.587Z"
   },
   {
    "duration": 16,
    "start_time": "2022-05-08T08:49:51.630Z"
   },
   {
    "duration": 20,
    "start_time": "2022-05-08T08:49:51.668Z"
   },
   {
    "duration": 19,
    "start_time": "2022-05-08T08:49:51.772Z"
   },
   {
    "duration": 16,
    "start_time": "2022-05-08T08:49:51.821Z"
   },
   {
    "duration": 947,
    "start_time": "2022-05-08T08:49:51.928Z"
   },
   {
    "duration": 513,
    "start_time": "2022-05-08T08:49:52.878Z"
   },
   {
    "duration": 491,
    "start_time": "2022-05-08T08:49:53.394Z"
   },
   {
    "duration": 462,
    "start_time": "2022-05-08T08:49:53.889Z"
   },
   {
    "duration": 507,
    "start_time": "2022-05-08T08:49:54.354Z"
   },
   {
    "duration": 349,
    "start_time": "2022-05-08T08:49:54.864Z"
   },
   {
    "duration": 6,
    "start_time": "2022-05-08T08:49:55.216Z"
   },
   {
    "duration": 346,
    "start_time": "2022-05-08T08:49:55.224Z"
   },
   {
    "duration": 7,
    "start_time": "2022-05-08T08:49:55.573Z"
   },
   {
    "duration": 420,
    "start_time": "2022-05-08T08:49:55.585Z"
   },
   {
    "duration": 327,
    "start_time": "2022-05-08T08:49:56.007Z"
   },
   {
    "duration": 25,
    "start_time": "2022-05-08T08:49:56.336Z"
   },
   {
    "duration": 13,
    "start_time": "2022-05-08T08:49:56.364Z"
   },
   {
    "duration": 39,
    "start_time": "2022-05-08T08:49:56.380Z"
   },
   {
    "duration": 18,
    "start_time": "2022-05-08T08:49:56.453Z"
   },
   {
    "duration": 3,
    "start_time": "2022-05-08T08:49:57.697Z"
   },
   {
    "duration": 1743,
    "start_time": "2022-05-08T12:36:48.979Z"
   },
   {
    "duration": 45,
    "start_time": "2022-05-08T12:36:50.725Z"
   },
   {
    "duration": 4,
    "start_time": "2022-05-08T12:36:50.773Z"
   },
   {
    "duration": 67,
    "start_time": "2022-05-08T12:36:50.780Z"
   },
   {
    "duration": 22,
    "start_time": "2022-05-08T12:36:50.850Z"
   },
   {
    "duration": 10,
    "start_time": "2022-05-08T12:36:50.875Z"
   },
   {
    "duration": 31,
    "start_time": "2022-05-08T12:36:50.888Z"
   },
   {
    "duration": 20,
    "start_time": "2022-05-08T12:36:50.922Z"
   },
   {
    "duration": 25,
    "start_time": "2022-05-08T12:36:50.944Z"
   },
   {
    "duration": 19,
    "start_time": "2022-05-08T12:36:50.994Z"
   },
   {
    "duration": 1038,
    "start_time": "2022-05-08T12:36:51.016Z"
   },
   {
    "duration": 364,
    "start_time": "2022-05-08T12:36:52.057Z"
   },
   {
    "duration": 591,
    "start_time": "2022-05-08T12:36:52.423Z"
   },
   {
    "duration": 506,
    "start_time": "2022-05-08T12:36:53.017Z"
   },
   {
    "duration": 502,
    "start_time": "2022-05-08T12:36:53.526Z"
   },
   {
    "duration": 417,
    "start_time": "2022-05-08T12:36:54.031Z"
   },
   {
    "duration": 6,
    "start_time": "2022-05-08T12:36:54.450Z"
   },
   {
    "duration": 337,
    "start_time": "2022-05-08T12:36:54.458Z"
   },
   {
    "duration": 7,
    "start_time": "2022-05-08T12:36:54.798Z"
   },
   {
    "duration": 433,
    "start_time": "2022-05-08T12:36:54.808Z"
   },
   {
    "duration": 296,
    "start_time": "2022-05-08T12:36:55.244Z"
   },
   {
    "duration": 20,
    "start_time": "2022-05-08T12:36:55.543Z"
   },
   {
    "duration": 38,
    "start_time": "2022-05-08T12:36:55.565Z"
   },
   {
    "duration": 57,
    "start_time": "2022-05-08T12:36:55.606Z"
   },
   {
    "duration": 46,
    "start_time": "2022-05-08T12:36:55.666Z"
   },
   {
    "duration": 13,
    "start_time": "2022-05-08T12:36:55.715Z"
   },
   {
    "duration": 13,
    "start_time": "2022-05-08T12:37:12.541Z"
   },
   {
    "duration": 16,
    "start_time": "2022-05-08T12:37:40.972Z"
   },
   {
    "duration": 27,
    "start_time": "2022-05-08T12:39:03.300Z"
   },
   {
    "duration": 9,
    "start_time": "2022-05-08T12:40:00.663Z"
   },
   {
    "duration": 9,
    "start_time": "2022-05-08T12:45:03.852Z"
   },
   {
    "duration": 7,
    "start_time": "2022-05-08T12:45:17.286Z"
   },
   {
    "duration": 6,
    "start_time": "2022-05-08T12:48:57.942Z"
   },
   {
    "duration": 9,
    "start_time": "2022-05-08T12:49:13.953Z"
   },
   {
    "duration": 7,
    "start_time": "2022-05-08T12:53:25.482Z"
   },
   {
    "duration": 10,
    "start_time": "2022-05-08T13:02:43.968Z"
   },
   {
    "duration": 12,
    "start_time": "2022-05-08T13:03:32.574Z"
   },
   {
    "duration": 9,
    "start_time": "2022-05-08T13:03:58.180Z"
   },
   {
    "duration": 9,
    "start_time": "2022-05-08T13:04:14.549Z"
   },
   {
    "duration": 23,
    "start_time": "2022-05-08T13:08:23.407Z"
   },
   {
    "duration": 12,
    "start_time": "2022-05-08T13:08:32.216Z"
   },
   {
    "duration": 19,
    "start_time": "2022-05-08T14:00:41.259Z"
   },
   {
    "duration": 14,
    "start_time": "2022-05-08T14:18:36.440Z"
   },
   {
    "duration": 11,
    "start_time": "2022-05-08T14:31:41.168Z"
   },
   {
    "duration": 8,
    "start_time": "2022-05-08T14:32:27.530Z"
   },
   {
    "duration": 7,
    "start_time": "2022-05-08T14:32:50.479Z"
   },
   {
    "duration": 8,
    "start_time": "2022-05-08T14:34:05.009Z"
   },
   {
    "duration": 7,
    "start_time": "2022-05-08T14:35:10.712Z"
   },
   {
    "duration": 380,
    "start_time": "2022-05-08T14:35:19.703Z"
   },
   {
    "duration": 6,
    "start_time": "2022-05-08T14:35:23.215Z"
   },
   {
    "duration": 8,
    "start_time": "2022-05-08T14:35:56.777Z"
   },
   {
    "duration": 556,
    "start_time": "2022-05-08T14:36:24.445Z"
   },
   {
    "duration": 7,
    "start_time": "2022-05-08T14:36:33.440Z"
   },
   {
    "duration": 7,
    "start_time": "2022-05-08T14:37:15.175Z"
   },
   {
    "duration": 5,
    "start_time": "2022-05-08T14:37:46.325Z"
   },
   {
    "duration": 6,
    "start_time": "2022-05-08T14:37:55.077Z"
   },
   {
    "duration": 3954,
    "start_time": "2022-05-08T14:37:57.902Z"
   },
   {
    "duration": 2814,
    "start_time": "2022-05-08T14:38:15.241Z"
   },
   {
    "duration": 15,
    "start_time": "2022-05-08T14:38:32.611Z"
   },
   {
    "duration": 17,
    "start_time": "2022-05-08T14:39:23.159Z"
   },
   {
    "duration": 8,
    "start_time": "2022-05-08T14:39:39.082Z"
   },
   {
    "duration": 7,
    "start_time": "2022-05-08T14:40:56.497Z"
   },
   {
    "duration": 1645,
    "start_time": "2022-05-08T19:11:32.705Z"
   },
   {
    "duration": 58,
    "start_time": "2022-05-08T19:11:34.353Z"
   },
   {
    "duration": 5,
    "start_time": "2022-05-08T19:11:34.414Z"
   },
   {
    "duration": 52,
    "start_time": "2022-05-08T19:11:34.421Z"
   },
   {
    "duration": 23,
    "start_time": "2022-05-08T19:11:34.477Z"
   },
   {
    "duration": 9,
    "start_time": "2022-05-08T19:11:34.502Z"
   },
   {
    "duration": 20,
    "start_time": "2022-05-08T19:11:34.513Z"
   },
   {
    "duration": 16,
    "start_time": "2022-05-08T19:11:34.536Z"
   },
   {
    "duration": 56,
    "start_time": "2022-05-08T19:11:34.554Z"
   },
   {
    "duration": 20,
    "start_time": "2022-05-08T19:11:34.612Z"
   },
   {
    "duration": 941,
    "start_time": "2022-05-08T19:11:34.635Z"
   },
   {
    "duration": 519,
    "start_time": "2022-05-08T19:11:35.578Z"
   },
   {
    "duration": 576,
    "start_time": "2022-05-08T19:11:36.100Z"
   },
   {
    "duration": 441,
    "start_time": "2022-05-08T19:11:36.682Z"
   },
   {
    "duration": 485,
    "start_time": "2022-05-08T19:11:37.126Z"
   },
   {
    "duration": 295,
    "start_time": "2022-05-08T19:11:37.614Z"
   },
   {
    "duration": 6,
    "start_time": "2022-05-08T19:11:37.912Z"
   },
   {
    "duration": 312,
    "start_time": "2022-05-08T19:11:37.921Z"
   },
   {
    "duration": 6,
    "start_time": "2022-05-08T19:11:38.236Z"
   },
   {
    "duration": 868,
    "start_time": "2022-05-08T19:11:38.245Z"
   },
   {
    "duration": 823,
    "start_time": "2022-05-08T19:11:39.116Z"
   },
   {
    "duration": 70,
    "start_time": "2022-05-08T19:11:39.941Z"
   },
   {
    "duration": 19,
    "start_time": "2022-05-08T19:11:40.014Z"
   },
   {
    "duration": 162,
    "start_time": "2022-05-08T19:11:40.036Z"
   },
   {
    "duration": 22,
    "start_time": "2022-05-08T19:11:40.201Z"
   },
   {
    "duration": 67,
    "start_time": "2022-05-08T19:11:40.226Z"
   },
   {
    "duration": 1114,
    "start_time": "2022-05-08T19:11:46.242Z"
   },
   {
    "duration": 1217,
    "start_time": "2022-05-08T19:11:57.620Z"
   },
   {
    "duration": 804,
    "start_time": "2022-05-08T19:12:04.740Z"
   },
   {
    "duration": 22,
    "start_time": "2022-05-08T19:16:15.429Z"
   },
   {
    "duration": 16,
    "start_time": "2022-05-08T19:16:25.522Z"
   },
   {
    "duration": 1688,
    "start_time": "2022-05-09T11:11:12.980Z"
   },
   {
    "duration": 40,
    "start_time": "2022-05-09T11:11:14.670Z"
   },
   {
    "duration": 4,
    "start_time": "2022-05-09T11:11:15.468Z"
   },
   {
    "duration": 24,
    "start_time": "2022-05-09T11:11:16.479Z"
   },
   {
    "duration": 15,
    "start_time": "2022-05-09T11:11:19.293Z"
   },
   {
    "duration": 11,
    "start_time": "2022-05-09T11:11:33.811Z"
   },
   {
    "duration": 10,
    "start_time": "2022-05-09T11:11:46.128Z"
   },
   {
    "duration": 10,
    "start_time": "2022-05-09T11:11:52.732Z"
   },
   {
    "duration": 116,
    "start_time": "2022-05-09T11:13:12.250Z"
   },
   {
    "duration": 149,
    "start_time": "2022-05-09T11:14:14.287Z"
   },
   {
    "duration": 6,
    "start_time": "2022-05-09T11:16:10.507Z"
   },
   {
    "duration": 7,
    "start_time": "2022-05-09T11:16:14.139Z"
   },
   {
    "duration": 6,
    "start_time": "2022-05-09T11:16:22.337Z"
   },
   {
    "duration": 6,
    "start_time": "2022-05-09T11:16:26.862Z"
   },
   {
    "duration": 7,
    "start_time": "2022-05-09T11:16:31.768Z"
   },
   {
    "duration": 7,
    "start_time": "2022-05-09T11:16:57.372Z"
   },
   {
    "duration": 15,
    "start_time": "2022-05-09T11:16:57.562Z"
   },
   {
    "duration": 13,
    "start_time": "2022-05-09T11:16:58.203Z"
   },
   {
    "duration": 105,
    "start_time": "2022-05-09T11:19:03.760Z"
   },
   {
    "duration": 14,
    "start_time": "2022-05-09T11:19:21.161Z"
   },
   {
    "duration": 12,
    "start_time": "2022-05-09T11:19:22.247Z"
   },
   {
    "duration": 5,
    "start_time": "2022-05-09T11:21:48.913Z"
   },
   {
    "duration": 6,
    "start_time": "2022-05-09T11:22:03.427Z"
   },
   {
    "duration": 7,
    "start_time": "2022-05-09T11:22:09.518Z"
   },
   {
    "duration": 5,
    "start_time": "2022-05-09T11:22:18.993Z"
   },
   {
    "duration": 7,
    "start_time": "2022-05-09T11:24:10.155Z"
   },
   {
    "duration": 5,
    "start_time": "2022-05-09T11:26:05.761Z"
   },
   {
    "duration": 5,
    "start_time": "2022-05-09T11:26:17.576Z"
   },
   {
    "duration": 4,
    "start_time": "2022-05-09T11:26:33.510Z"
   },
   {
    "duration": 4,
    "start_time": "2022-05-09T11:26:45.694Z"
   },
   {
    "duration": 5,
    "start_time": "2022-05-09T11:27:16.249Z"
   },
   {
    "duration": 5,
    "start_time": "2022-05-09T11:29:37.049Z"
   },
   {
    "duration": 5,
    "start_time": "2022-05-09T11:29:37.420Z"
   },
   {
    "duration": 6,
    "start_time": "2022-05-09T11:29:40.092Z"
   },
   {
    "duration": 5,
    "start_time": "2022-05-09T11:31:48.551Z"
   },
   {
    "duration": 96,
    "start_time": "2022-05-09T11:32:09.646Z"
   },
   {
    "duration": 9,
    "start_time": "2022-05-09T11:32:35.670Z"
   },
   {
    "duration": 11,
    "start_time": "2022-05-09T11:32:38.911Z"
   },
   {
    "duration": 9,
    "start_time": "2022-05-09T11:32:43.995Z"
   },
   {
    "duration": 9,
    "start_time": "2022-05-09T11:33:08.281Z"
   },
   {
    "duration": 9,
    "start_time": "2022-05-09T11:33:16.879Z"
   },
   {
    "duration": 10,
    "start_time": "2022-05-09T11:33:20.923Z"
   },
   {
    "duration": 9,
    "start_time": "2022-05-09T11:33:38.012Z"
   },
   {
    "duration": 9,
    "start_time": "2022-05-09T11:33:38.747Z"
   },
   {
    "duration": 10,
    "start_time": "2022-05-09T11:34:54.196Z"
   },
   {
    "duration": 12,
    "start_time": "2022-05-09T11:46:25.800Z"
   },
   {
    "duration": 510,
    "start_time": "2022-05-09T11:46:38.497Z"
   },
   {
    "duration": 427,
    "start_time": "2022-05-09T11:46:47.282Z"
   },
   {
    "duration": 12,
    "start_time": "2022-05-09T11:47:05.662Z"
   },
   {
    "duration": 14,
    "start_time": "2022-05-09T11:48:02.482Z"
   },
   {
    "duration": 14,
    "start_time": "2022-05-09T11:48:46.876Z"
   },
   {
    "duration": 12,
    "start_time": "2022-05-09T11:49:05.919Z"
   },
   {
    "duration": 14,
    "start_time": "2022-05-09T11:49:22.847Z"
   },
   {
    "duration": 14,
    "start_time": "2022-05-09T11:49:29.810Z"
   },
   {
    "duration": 14,
    "start_time": "2022-05-09T11:49:34.969Z"
   },
   {
    "duration": 11,
    "start_time": "2022-05-09T11:50:22.938Z"
   },
   {
    "duration": 7,
    "start_time": "2022-05-09T11:50:37.592Z"
   },
   {
    "duration": 11,
    "start_time": "2022-05-09T11:50:42.067Z"
   },
   {
    "duration": 18,
    "start_time": "2022-05-09T11:52:05.244Z"
   },
   {
    "duration": 5,
    "start_time": "2022-05-09T11:52:18.994Z"
   },
   {
    "duration": 11,
    "start_time": "2022-05-09T11:53:20.045Z"
   },
   {
    "duration": 9,
    "start_time": "2022-05-09T11:53:33.303Z"
   },
   {
    "duration": 3,
    "start_time": "2022-05-09T11:54:06.112Z"
   },
   {
    "duration": 10,
    "start_time": "2022-05-09T11:54:08.486Z"
   },
   {
    "duration": 11,
    "start_time": "2022-05-09T11:54:16.540Z"
   },
   {
    "duration": 1660,
    "start_time": "2022-05-09T11:54:31.845Z"
   },
   {
    "duration": 8,
    "start_time": "2022-05-09T11:55:09.076Z"
   },
   {
    "duration": 11,
    "start_time": "2022-05-09T11:56:09.463Z"
   },
   {
    "duration": 18,
    "start_time": "2022-05-09T11:56:37.199Z"
   },
   {
    "duration": 14,
    "start_time": "2022-05-09T11:57:21.095Z"
   },
   {
    "duration": 9,
    "start_time": "2022-05-09T11:57:27.787Z"
   },
   {
    "duration": 101,
    "start_time": "2022-05-09T11:57:29.311Z"
   },
   {
    "duration": 12,
    "start_time": "2022-05-09T11:57:31.821Z"
   },
   {
    "duration": 29,
    "start_time": "2022-05-09T11:58:04.359Z"
   },
   {
    "duration": 15,
    "start_time": "2022-05-09T11:58:34.514Z"
   },
   {
    "duration": 6,
    "start_time": "2022-05-09T11:59:34.299Z"
   },
   {
    "duration": 15,
    "start_time": "2022-05-09T12:00:26.609Z"
   },
   {
    "duration": 8,
    "start_time": "2022-05-09T12:00:27.309Z"
   },
   {
    "duration": 109,
    "start_time": "2022-05-09T12:01:26.657Z"
   },
   {
    "duration": 7,
    "start_time": "2022-05-09T12:01:31.616Z"
   },
   {
    "duration": 10,
    "start_time": "2022-05-09T12:01:46.067Z"
   },
   {
    "duration": 13,
    "start_time": "2022-05-09T12:01:57.880Z"
   },
   {
    "duration": 10,
    "start_time": "2022-05-09T12:02:12.306Z"
   },
   {
    "duration": 8,
    "start_time": "2022-05-09T12:03:00.402Z"
   },
   {
    "duration": 16,
    "start_time": "2022-05-09T12:03:16.023Z"
   },
   {
    "duration": 2019,
    "start_time": "2022-05-09T12:03:28.507Z"
   },
   {
    "duration": 3001,
    "start_time": "2022-05-09T12:03:32.655Z"
   },
   {
    "duration": 21,
    "start_time": "2022-05-09T12:03:36.553Z"
   },
   {
    "duration": 22,
    "start_time": "2022-05-09T12:03:41.182Z"
   },
   {
    "duration": 21,
    "start_time": "2022-05-09T12:04:15.747Z"
   },
   {
    "duration": 23,
    "start_time": "2022-05-09T12:04:22.922Z"
   },
   {
    "duration": 11,
    "start_time": "2022-05-09T12:05:58.848Z"
   },
   {
    "duration": 9,
    "start_time": "2022-05-09T12:06:02.469Z"
   },
   {
    "duration": 161,
    "start_time": "2022-05-09T12:06:45.201Z"
   },
   {
    "duration": 16,
    "start_time": "2022-05-09T12:06:49.647Z"
   },
   {
    "duration": 19,
    "start_time": "2022-05-09T12:07:05.875Z"
   },
   {
    "duration": 126,
    "start_time": "2022-05-09T12:07:11.300Z"
   },
   {
    "duration": 23,
    "start_time": "2022-05-09T12:07:14.696Z"
   },
   {
    "duration": 15,
    "start_time": "2022-05-09T12:07:34.214Z"
   },
   {
    "duration": 156,
    "start_time": "2022-05-09T12:08:44.021Z"
   },
   {
    "duration": 200,
    "start_time": "2022-05-09T12:09:03.193Z"
   },
   {
    "duration": 16,
    "start_time": "2022-05-09T12:12:07.853Z"
   },
   {
    "duration": 111,
    "start_time": "2022-05-09T12:13:01.528Z"
   },
   {
    "duration": 13,
    "start_time": "2022-05-09T12:13:06.372Z"
   },
   {
    "duration": 11,
    "start_time": "2022-05-09T12:13:12.121Z"
   },
   {
    "duration": 13,
    "start_time": "2022-05-09T12:13:16.063Z"
   },
   {
    "duration": 14,
    "start_time": "2022-05-09T12:13:38.206Z"
   },
   {
    "duration": 14,
    "start_time": "2022-05-09T12:15:23.101Z"
   },
   {
    "duration": 3,
    "start_time": "2022-05-09T12:15:27.128Z"
   },
   {
    "duration": 42,
    "start_time": "2022-05-09T12:15:27.291Z"
   },
   {
    "duration": 15,
    "start_time": "2022-05-09T12:15:27.453Z"
   },
   {
    "duration": 14,
    "start_time": "2022-05-09T12:15:27.612Z"
   },
   {
    "duration": 13,
    "start_time": "2022-05-09T12:15:27.800Z"
   },
   {
    "duration": 5,
    "start_time": "2022-05-09T12:15:28.149Z"
   },
   {
    "duration": 6,
    "start_time": "2022-05-09T12:15:28.309Z"
   },
   {
    "duration": 7,
    "start_time": "2022-05-09T12:15:28.649Z"
   },
   {
    "duration": 13,
    "start_time": "2022-05-09T12:15:29.354Z"
   },
   {
    "duration": 13,
    "start_time": "2022-05-09T12:15:29.544Z"
   },
   {
    "duration": 5,
    "start_time": "2022-05-09T12:15:30.787Z"
   },
   {
    "duration": 5,
    "start_time": "2022-05-09T12:15:31.127Z"
   },
   {
    "duration": 5,
    "start_time": "2022-05-09T12:15:31.309Z"
   },
   {
    "duration": 10,
    "start_time": "2022-05-09T12:15:31.628Z"
   },
   {
    "duration": 14,
    "start_time": "2022-05-09T12:15:32.141Z"
   },
   {
    "duration": 599,
    "start_time": "2022-05-09T12:15:32.271Z"
   },
   {
    "duration": 231,
    "start_time": "2022-05-09T12:15:32.872Z"
   },
   {
    "duration": 352,
    "start_time": "2022-05-09T12:15:33.106Z"
   },
   {
    "duration": 254,
    "start_time": "2022-05-09T12:15:33.481Z"
   },
   {
    "duration": 329,
    "start_time": "2022-05-09T12:15:33.852Z"
   },
   {
    "duration": 160,
    "start_time": "2022-05-09T12:15:34.412Z"
   },
   {
    "duration": 5,
    "start_time": "2022-05-09T12:15:34.806Z"
   },
   {
    "duration": 195,
    "start_time": "2022-05-09T12:15:35.363Z"
   },
   {
    "duration": 5,
    "start_time": "2022-05-09T12:15:36.006Z"
   },
   {
    "duration": 228,
    "start_time": "2022-05-09T12:15:36.827Z"
   },
   {
    "duration": 164,
    "start_time": "2022-05-09T12:15:38.422Z"
   },
   {
    "duration": 12,
    "start_time": "2022-05-09T12:15:39.678Z"
   },
   {
    "duration": 19,
    "start_time": "2022-05-09T12:15:41.511Z"
   },
   {
    "duration": 10,
    "start_time": "2022-05-09T12:15:47.884Z"
   },
   {
    "duration": 12,
    "start_time": "2022-05-09T12:15:50.880Z"
   },
   {
    "duration": 4,
    "start_time": "2022-05-09T12:16:18.632Z"
   },
   {
    "duration": 29,
    "start_time": "2022-05-09T12:16:31.145Z"
   },
   {
    "duration": 8,
    "start_time": "2022-05-09T12:16:38.806Z"
   },
   {
    "duration": 27,
    "start_time": "2022-05-09T12:16:39.253Z"
   },
   {
    "duration": 4,
    "start_time": "2022-05-09T12:16:39.809Z"
   },
   {
    "duration": 25,
    "start_time": "2022-05-09T12:16:40.266Z"
   },
   {
    "duration": 15,
    "start_time": "2022-05-09T12:16:40.877Z"
   },
   {
    "duration": 12,
    "start_time": "2022-05-09T12:16:41.408Z"
   },
   {
    "duration": 12,
    "start_time": "2022-05-09T12:16:42.110Z"
   },
   {
    "duration": 7,
    "start_time": "2022-05-09T12:16:43.541Z"
   },
   {
    "duration": 5,
    "start_time": "2022-05-09T12:16:43.970Z"
   },
   {
    "duration": 6,
    "start_time": "2022-05-09T12:16:45.689Z"
   },
   {
    "duration": 11,
    "start_time": "2022-05-09T12:16:49.306Z"
   },
   {
    "duration": 13,
    "start_time": "2022-05-09T12:16:49.568Z"
   },
   {
    "duration": 5,
    "start_time": "2022-05-09T12:16:51.547Z"
   },
   {
    "duration": 5,
    "start_time": "2022-05-09T12:16:52.457Z"
   },
   {
    "duration": 4,
    "start_time": "2022-05-09T12:16:52.837Z"
   },
   {
    "duration": 9,
    "start_time": "2022-05-09T12:16:53.938Z"
   },
   {
    "duration": 13,
    "start_time": "2022-05-09T12:16:56.452Z"
   },
   {
    "duration": 17,
    "start_time": "2022-05-09T12:17:13.240Z"
   },
   {
    "duration": 15,
    "start_time": "2022-05-09T12:17:15.682Z"
   },
   {
    "duration": 12,
    "start_time": "2022-05-09T12:17:54.018Z"
   },
   {
    "duration": 16,
    "start_time": "2022-05-09T12:17:57.859Z"
   },
   {
    "duration": 15,
    "start_time": "2022-05-09T12:18:05.409Z"
   },
   {
    "duration": 16,
    "start_time": "2022-05-09T12:18:11.177Z"
   },
   {
    "duration": 120,
    "start_time": "2022-05-09T12:18:32.621Z"
   },
   {
    "duration": 17,
    "start_time": "2022-05-09T12:18:37.017Z"
   },
   {
    "duration": 9,
    "start_time": "2022-05-09T12:19:56.827Z"
   },
   {
    "duration": 11,
    "start_time": "2022-05-09T12:20:00.070Z"
   },
   {
    "duration": 20,
    "start_time": "2022-05-09T12:20:05.212Z"
   },
   {
    "duration": 11,
    "start_time": "2022-05-09T12:20:27.795Z"
   },
   {
    "duration": 15,
    "start_time": "2022-05-09T12:20:38.402Z"
   },
   {
    "duration": 8,
    "start_time": "2022-05-09T12:20:43.771Z"
   },
   {
    "duration": 16,
    "start_time": "2022-05-09T12:21:34.223Z"
   },
   {
    "duration": 12,
    "start_time": "2022-05-09T12:21:43.413Z"
   },
   {
    "duration": 10,
    "start_time": "2022-05-09T12:22:04.642Z"
   },
   {
    "duration": 10,
    "start_time": "2022-05-09T12:22:12.384Z"
   },
   {
    "duration": 4,
    "start_time": "2022-05-09T12:24:16.214Z"
   },
   {
    "duration": 15,
    "start_time": "2022-05-09T12:24:20.041Z"
   },
   {
    "duration": 14,
    "start_time": "2022-05-09T12:24:26.513Z"
   },
   {
    "duration": 9,
    "start_time": "2022-05-09T12:25:43.123Z"
   },
   {
    "duration": 40,
    "start_time": "2022-05-09T12:25:55.226Z"
   },
   {
    "duration": 51,
    "start_time": "2022-05-09T12:25:58.024Z"
   },
   {
    "duration": 40,
    "start_time": "2022-05-09T12:26:06.073Z"
   },
   {
    "duration": 41,
    "start_time": "2022-05-09T12:26:13.791Z"
   },
   {
    "duration": 58,
    "start_time": "2022-05-09T12:26:17.075Z"
   },
   {
    "duration": 58,
    "start_time": "2022-05-09T12:26:21.736Z"
   },
   {
    "duration": 12,
    "start_time": "2022-05-09T12:26:38.069Z"
   },
   {
    "duration": 61,
    "start_time": "2022-05-09T12:26:38.530Z"
   },
   {
    "duration": 9,
    "start_time": "2022-05-09T12:26:47.275Z"
   },
   {
    "duration": 59,
    "start_time": "2022-05-09T12:26:54.071Z"
   },
   {
    "duration": 8,
    "start_time": "2022-05-09T12:26:57.399Z"
   },
   {
    "duration": 8,
    "start_time": "2022-05-09T12:27:11.145Z"
   },
   {
    "duration": 7,
    "start_time": "2022-05-09T12:27:16.211Z"
   },
   {
    "duration": 6,
    "start_time": "2022-05-09T12:27:19.627Z"
   },
   {
    "duration": 11,
    "start_time": "2022-05-09T12:27:30.330Z"
   },
   {
    "duration": 10,
    "start_time": "2022-05-09T12:27:34.077Z"
   },
   {
    "duration": 39,
    "start_time": "2022-05-09T12:27:40.298Z"
   },
   {
    "duration": 14,
    "start_time": "2022-05-09T12:28:21.061Z"
   },
   {
    "duration": 47,
    "start_time": "2022-05-09T12:28:32.408Z"
   },
   {
    "duration": 13,
    "start_time": "2022-05-09T12:28:35.221Z"
   },
   {
    "duration": 11,
    "start_time": "2022-05-09T12:29:47.663Z"
   },
   {
    "duration": 9,
    "start_time": "2022-05-09T12:29:55.692Z"
   },
   {
    "duration": 14,
    "start_time": "2022-05-09T12:29:58.458Z"
   },
   {
    "duration": 4,
    "start_time": "2022-05-09T12:30:36.997Z"
   },
   {
    "duration": 6,
    "start_time": "2022-05-09T12:30:41.662Z"
   },
   {
    "duration": 1100,
    "start_time": "2022-05-09T12:30:53.851Z"
   },
   {
    "duration": 28,
    "start_time": "2022-05-09T12:30:54.953Z"
   },
   {
    "duration": 11,
    "start_time": "2022-05-09T12:30:54.983Z"
   },
   {
    "duration": 27,
    "start_time": "2022-05-09T12:30:54.996Z"
   },
   {
    "duration": 14,
    "start_time": "2022-05-09T12:30:55.025Z"
   },
   {
    "duration": 11,
    "start_time": "2022-05-09T12:30:55.040Z"
   },
   {
    "duration": 11,
    "start_time": "2022-05-09T12:30:55.054Z"
   },
   {
    "duration": 6,
    "start_time": "2022-05-09T12:30:55.351Z"
   },
   {
    "duration": 5,
    "start_time": "2022-05-09T12:30:55.533Z"
   },
   {
    "duration": 6,
    "start_time": "2022-05-09T12:30:55.891Z"
   },
   {
    "duration": 14,
    "start_time": "2022-05-09T12:30:56.627Z"
   },
   {
    "duration": 13,
    "start_time": "2022-05-09T12:30:56.817Z"
   },
   {
    "duration": 6,
    "start_time": "2022-05-09T12:30:57.742Z"
   },
   {
    "duration": 4,
    "start_time": "2022-05-09T12:30:58.165Z"
   },
   {
    "duration": 4,
    "start_time": "2022-05-09T12:30:58.396Z"
   },
   {
    "duration": 10,
    "start_time": "2022-05-09T12:30:59.976Z"
   },
   {
    "duration": 4,
    "start_time": "2022-05-09T12:31:01.318Z"
   },
   {
    "duration": 6,
    "start_time": "2022-05-09T12:31:02.819Z"
   },
   {
    "duration": 5,
    "start_time": "2022-05-09T12:32:30.339Z"
   },
   {
    "duration": 96,
    "start_time": "2022-05-09T12:32:53.049Z"
   },
   {
    "duration": 8,
    "start_time": "2022-05-09T12:33:00.546Z"
   },
   {
    "duration": 1374,
    "start_time": "2022-05-09T12:33:09.021Z"
   },
   {
    "duration": 6,
    "start_time": "2022-05-09T12:33:12.628Z"
   },
   {
    "duration": 5,
    "start_time": "2022-05-09T12:33:17.819Z"
   },
   {
    "duration": 5,
    "start_time": "2022-05-09T12:33:21.794Z"
   },
   {
    "duration": 5,
    "start_time": "2022-05-09T12:33:47.537Z"
   },
   {
    "duration": 5,
    "start_time": "2022-05-09T12:33:48.036Z"
   },
   {
    "duration": 11,
    "start_time": "2022-05-09T12:33:50.834Z"
   },
   {
    "duration": 6,
    "start_time": "2022-05-09T12:33:53.675Z"
   },
   {
    "duration": 5,
    "start_time": "2022-05-09T12:34:38.554Z"
   },
   {
    "duration": 5,
    "start_time": "2022-05-09T12:35:51.538Z"
   },
   {
    "duration": 9,
    "start_time": "2022-05-09T12:36:01.801Z"
   },
   {
    "duration": 89,
    "start_time": "2022-05-09T12:37:06.589Z"
   },
   {
    "duration": 4,
    "start_time": "2022-05-09T12:37:18.667Z"
   },
   {
    "duration": 1682,
    "start_time": "2022-05-09T12:37:47.388Z"
   },
   {
    "duration": 9,
    "start_time": "2022-05-09T12:39:02.509Z"
   },
   {
    "duration": 14,
    "start_time": "2022-05-09T12:39:07.001Z"
   },
   {
    "duration": 12,
    "start_time": "2022-05-09T12:39:11.986Z"
   },
   {
    "duration": 13,
    "start_time": "2022-05-09T12:39:15.011Z"
   },
   {
    "duration": 11,
    "start_time": "2022-05-09T12:39:22.264Z"
   },
   {
    "duration": 13,
    "start_time": "2022-05-09T12:39:24.718Z"
   },
   {
    "duration": 12,
    "start_time": "2022-05-09T12:43:32.091Z"
   },
   {
    "duration": 1163,
    "start_time": "2022-05-09T12:43:38.858Z"
   },
   {
    "duration": 28,
    "start_time": "2022-05-09T12:43:40.023Z"
   },
   {
    "duration": 3,
    "start_time": "2022-05-09T12:43:40.053Z"
   },
   {
    "duration": 52,
    "start_time": "2022-05-09T12:43:40.058Z"
   },
   {
    "duration": 15,
    "start_time": "2022-05-09T12:43:40.112Z"
   },
   {
    "duration": 11,
    "start_time": "2022-05-09T12:43:40.129Z"
   },
   {
    "duration": 29,
    "start_time": "2022-05-09T12:43:40.142Z"
   },
   {
    "duration": 7,
    "start_time": "2022-05-09T12:43:40.367Z"
   },
   {
    "duration": 5,
    "start_time": "2022-05-09T12:43:40.547Z"
   },
   {
    "duration": 7,
    "start_time": "2022-05-09T12:43:40.900Z"
   },
   {
    "duration": 14,
    "start_time": "2022-05-09T12:43:41.630Z"
   },
   {
    "duration": 12,
    "start_time": "2022-05-09T12:43:41.832Z"
   },
   {
    "duration": 9,
    "start_time": "2022-05-09T12:43:42.892Z"
   },
   {
    "duration": 9,
    "start_time": "2022-05-09T12:43:43.392Z"
   },
   {
    "duration": 5,
    "start_time": "2022-05-09T12:43:43.613Z"
   },
   {
    "duration": 18,
    "start_time": "2022-05-09T12:43:44.464Z"
   },
   {
    "duration": 13,
    "start_time": "2022-05-09T12:43:48.471Z"
   },
   {
    "duration": 4,
    "start_time": "2022-05-09T12:43:50.320Z"
   },
   {
    "duration": 14,
    "start_time": "2022-05-09T12:43:57.089Z"
   },
   {
    "duration": 13,
    "start_time": "2022-05-09T12:44:34.354Z"
   },
   {
    "duration": 13,
    "start_time": "2022-05-09T12:44:37.045Z"
   },
   {
    "duration": 10,
    "start_time": "2022-05-09T12:51:32.622Z"
   },
   {
    "duration": 13,
    "start_time": "2022-05-09T12:51:36.741Z"
   },
   {
    "duration": 14,
    "start_time": "2022-05-09T12:52:01.050Z"
   },
   {
    "duration": 15,
    "start_time": "2022-05-09T12:52:09.006Z"
   },
   {
    "duration": 15,
    "start_time": "2022-05-09T12:52:25.268Z"
   },
   {
    "duration": 1165,
    "start_time": "2022-05-09T12:52:43.688Z"
   },
   {
    "duration": 34,
    "start_time": "2022-05-09T12:52:44.855Z"
   },
   {
    "duration": 4,
    "start_time": "2022-05-09T12:52:44.891Z"
   },
   {
    "duration": 37,
    "start_time": "2022-05-09T12:52:44.897Z"
   },
   {
    "duration": 14,
    "start_time": "2022-05-09T12:52:44.936Z"
   },
   {
    "duration": 10,
    "start_time": "2022-05-09T12:52:44.952Z"
   },
   {
    "duration": 12,
    "start_time": "2022-05-09T12:52:44.963Z"
   },
   {
    "duration": 7,
    "start_time": "2022-05-09T12:52:45.209Z"
   },
   {
    "duration": 5,
    "start_time": "2022-05-09T12:52:45.376Z"
   },
   {
    "duration": 6,
    "start_time": "2022-05-09T12:52:45.740Z"
   },
   {
    "duration": 19,
    "start_time": "2022-05-09T12:52:47.039Z"
   },
   {
    "duration": 12,
    "start_time": "2022-05-09T12:52:47.241Z"
   },
   {
    "duration": 5,
    "start_time": "2022-05-09T12:52:48.173Z"
   },
   {
    "duration": 6,
    "start_time": "2022-05-09T12:52:48.572Z"
   },
   {
    "duration": 4,
    "start_time": "2022-05-09T12:52:48.774Z"
   },
   {
    "duration": 125,
    "start_time": "2022-05-09T12:52:49.207Z"
   },
   {
    "duration": 13,
    "start_time": "2022-05-09T12:52:54.907Z"
   },
   {
    "duration": 11,
    "start_time": "2022-05-09T12:52:57.014Z"
   },
   {
    "duration": 5,
    "start_time": "2022-05-09T12:52:57.435Z"
   },
   {
    "duration": 15,
    "start_time": "2022-05-09T12:52:58.930Z"
   },
   {
    "duration": 11,
    "start_time": "2022-05-09T12:53:28.019Z"
   },
   {
    "duration": 4,
    "start_time": "2022-05-09T12:53:28.901Z"
   },
   {
    "duration": 18,
    "start_time": "2022-05-09T12:53:29.582Z"
   },
   {
    "duration": 593,
    "start_time": "2022-05-09T13:00:26.550Z"
   },
   {
    "duration": 224,
    "start_time": "2022-05-09T13:00:55.668Z"
   },
   {
    "duration": 365,
    "start_time": "2022-05-09T13:00:58.825Z"
   },
   {
    "duration": 11,
    "start_time": "2022-05-09T13:02:02.273Z"
   },
   {
    "duration": 19,
    "start_time": "2022-05-09T13:02:45.177Z"
   },
   {
    "duration": 298,
    "start_time": "2022-05-09T13:03:05.638Z"
   },
   {
    "duration": 233,
    "start_time": "2022-05-09T13:04:24.622Z"
   },
   {
    "duration": 314,
    "start_time": "2022-05-09T13:04:26.100Z"
   },
   {
    "duration": 195,
    "start_time": "2022-05-09T13:04:50.210Z"
   },
   {
    "duration": 373,
    "start_time": "2022-05-09T13:04:54.108Z"
   },
   {
    "duration": 472,
    "start_time": "2022-05-09T13:05:16.179Z"
   },
   {
    "duration": 250,
    "start_time": "2022-05-09T13:06:51.679Z"
   },
   {
    "duration": 4,
    "start_time": "2022-05-09T13:06:53.222Z"
   },
   {
    "duration": 1179,
    "start_time": "2022-05-09T13:08:06.985Z"
   },
   {
    "duration": 36,
    "start_time": "2022-05-09T13:08:08.166Z"
   },
   {
    "duration": 5,
    "start_time": "2022-05-09T13:08:08.204Z"
   },
   {
    "duration": 29,
    "start_time": "2022-05-09T13:08:08.212Z"
   },
   {
    "duration": 15,
    "start_time": "2022-05-09T13:08:08.243Z"
   },
   {
    "duration": 12,
    "start_time": "2022-05-09T13:08:08.260Z"
   },
   {
    "duration": 9,
    "start_time": "2022-05-09T13:08:08.274Z"
   },
   {
    "duration": 18,
    "start_time": "2022-05-09T13:08:08.285Z"
   },
   {
    "duration": 18,
    "start_time": "2022-05-09T13:08:08.305Z"
   },
   {
    "duration": 6,
    "start_time": "2022-05-09T13:08:08.509Z"
   },
   {
    "duration": 13,
    "start_time": "2022-05-09T13:08:09.957Z"
   },
   {
    "duration": 10,
    "start_time": "2022-05-09T13:08:10.160Z"
   },
   {
    "duration": 4,
    "start_time": "2022-05-09T13:08:11.029Z"
   },
   {
    "duration": 6,
    "start_time": "2022-05-09T13:08:11.398Z"
   },
   {
    "duration": 5,
    "start_time": "2022-05-09T13:08:11.589Z"
   },
   {
    "duration": 22,
    "start_time": "2022-05-09T13:08:11.991Z"
   },
   {
    "duration": 12,
    "start_time": "2022-05-09T13:08:13.039Z"
   },
   {
    "duration": 4,
    "start_time": "2022-05-09T13:08:14.174Z"
   },
   {
    "duration": 15,
    "start_time": "2022-05-09T13:08:20.607Z"
   },
   {
    "duration": 553,
    "start_time": "2022-05-09T13:08:23.508Z"
   },
   {
    "duration": 212,
    "start_time": "2022-05-09T13:08:25.931Z"
   },
   {
    "duration": 314,
    "start_time": "2022-05-09T13:08:30.613Z"
   },
   {
    "duration": 308,
    "start_time": "2022-05-09T13:08:32.365Z"
   },
   {
    "duration": 329,
    "start_time": "2022-05-09T13:08:34.400Z"
   },
   {
    "duration": 167,
    "start_time": "2022-05-09T13:08:36.219Z"
   },
   {
    "duration": 5,
    "start_time": "2022-05-09T13:08:39.985Z"
   },
   {
    "duration": 165,
    "start_time": "2022-05-09T13:08:56.293Z"
   },
   {
    "duration": 177,
    "start_time": "2022-05-09T13:09:24.078Z"
   },
   {
    "duration": 168,
    "start_time": "2022-05-09T13:09:27.448Z"
   },
   {
    "duration": 13,
    "start_time": "2022-05-09T13:09:35.158Z"
   },
   {
    "duration": 295,
    "start_time": "2022-05-09T13:09:49.169Z"
   },
   {
    "duration": 225,
    "start_time": "2022-05-09T13:09:53.347Z"
   },
   {
    "duration": 236,
    "start_time": "2022-05-09T13:09:58.224Z"
   },
   {
    "duration": 12,
    "start_time": "2022-05-09T13:10:00.469Z"
   },
   {
    "duration": 161,
    "start_time": "2022-05-09T13:10:18.923Z"
   },
   {
    "duration": 175,
    "start_time": "2022-05-09T13:10:25.568Z"
   },
   {
    "duration": 169,
    "start_time": "2022-05-09T13:10:32.176Z"
   },
   {
    "duration": 236,
    "start_time": "2022-05-09T13:59:17.651Z"
   },
   {
    "duration": 175,
    "start_time": "2022-05-09T13:59:33.810Z"
   },
   {
    "duration": 18,
    "start_time": "2022-05-09T13:59:47.120Z"
   },
   {
    "duration": 17,
    "start_time": "2022-05-09T13:59:52.526Z"
   },
   {
    "duration": 142,
    "start_time": "2022-05-09T13:59:55.210Z"
   },
   {
    "duration": 1274,
    "start_time": "2022-05-09T14:00:35.420Z"
   },
   {
    "duration": 35,
    "start_time": "2022-05-09T14:00:36.697Z"
   },
   {
    "duration": 3,
    "start_time": "2022-05-09T14:00:36.734Z"
   },
   {
    "duration": 29,
    "start_time": "2022-05-09T14:00:36.740Z"
   },
   {
    "duration": 14,
    "start_time": "2022-05-09T14:00:36.770Z"
   },
   {
    "duration": 12,
    "start_time": "2022-05-09T14:00:36.785Z"
   },
   {
    "duration": 15,
    "start_time": "2022-05-09T14:00:36.798Z"
   },
   {
    "duration": 7,
    "start_time": "2022-05-09T14:00:37.116Z"
   },
   {
    "duration": 6,
    "start_time": "2022-05-09T14:00:37.310Z"
   },
   {
    "duration": 7,
    "start_time": "2022-05-09T14:00:37.706Z"
   },
   {
    "duration": 18,
    "start_time": "2022-05-09T14:00:38.503Z"
   },
   {
    "duration": 15,
    "start_time": "2022-05-09T14:00:38.689Z"
   },
   {
    "duration": 5,
    "start_time": "2022-05-09T14:00:39.721Z"
   },
   {
    "duration": 5,
    "start_time": "2022-05-09T14:00:40.167Z"
   },
   {
    "duration": 5,
    "start_time": "2022-05-09T14:00:40.379Z"
   },
   {
    "duration": 16,
    "start_time": "2022-05-09T14:00:40.785Z"
   },
   {
    "duration": 29,
    "start_time": "2022-05-09T14:00:41.212Z"
   },
   {
    "duration": 4,
    "start_time": "2022-05-09T14:00:41.668Z"
   },
   {
    "duration": 19,
    "start_time": "2022-05-09T14:00:42.086Z"
   },
   {
    "duration": 702,
    "start_time": "2022-05-09T14:00:42.785Z"
   },
   {
    "duration": 239,
    "start_time": "2022-05-09T14:00:43.768Z"
   },
   {
    "duration": 375,
    "start_time": "2022-05-09T14:00:44.648Z"
   },
   {
    "duration": 237,
    "start_time": "2022-05-09T14:00:50.093Z"
   },
   {
    "duration": 325,
    "start_time": "2022-05-09T14:00:50.600Z"
   },
   {
    "duration": 187,
    "start_time": "2022-05-09T14:00:52.582Z"
   },
   {
    "duration": 4,
    "start_time": "2022-05-09T14:00:53.512Z"
   },
   {
    "duration": 242,
    "start_time": "2022-05-09T14:00:55.172Z"
   },
   {
    "duration": 8,
    "start_time": "2022-05-09T14:01:36.914Z"
   },
   {
    "duration": 5,
    "start_time": "2022-05-09T14:01:51.232Z"
   },
   {
    "duration": 9,
    "start_time": "2022-05-09T14:02:15.836Z"
   },
   {
    "duration": 6,
    "start_time": "2022-05-09T14:02:27.451Z"
   },
   {
    "duration": 129,
    "start_time": "2022-05-09T14:05:08.328Z"
   },
   {
    "duration": 177,
    "start_time": "2022-05-09T14:05:17.077Z"
   },
   {
    "duration": 248,
    "start_time": "2022-05-09T14:05:24.861Z"
   },
   {
    "duration": 247,
    "start_time": "2022-05-09T14:05:33.845Z"
   },
   {
    "duration": 238,
    "start_time": "2022-05-09T14:05:43.728Z"
   },
   {
    "duration": 8,
    "start_time": "2022-05-09T14:05:59.173Z"
   },
   {
    "duration": 8,
    "start_time": "2022-05-09T14:06:30.596Z"
   },
   {
    "duration": 9,
    "start_time": "2022-05-09T14:06:49.908Z"
   },
   {
    "duration": 331,
    "start_time": "2022-05-09T14:07:21.577Z"
   },
   {
    "duration": 409,
    "start_time": "2022-05-09T14:07:21.954Z"
   },
   {
    "duration": 274,
    "start_time": "2022-05-09T14:07:23.475Z"
   },
   {
    "duration": 4,
    "start_time": "2022-05-09T14:07:24.739Z"
   },
   {
    "duration": 195,
    "start_time": "2022-05-09T14:07:25.967Z"
   },
   {
    "duration": 4,
    "start_time": "2022-05-09T14:08:15.315Z"
   },
   {
    "duration": 1439,
    "start_time": "2022-05-09T14:08:29.067Z"
   },
   {
    "duration": 29,
    "start_time": "2022-05-09T14:08:30.511Z"
   },
   {
    "duration": 4,
    "start_time": "2022-05-09T14:08:30.542Z"
   },
   {
    "duration": 39,
    "start_time": "2022-05-09T14:08:30.549Z"
   },
   {
    "duration": 19,
    "start_time": "2022-05-09T14:08:30.590Z"
   },
   {
    "duration": 16,
    "start_time": "2022-05-09T14:08:30.613Z"
   },
   {
    "duration": 24,
    "start_time": "2022-05-09T14:08:30.631Z"
   },
   {
    "duration": 10,
    "start_time": "2022-05-09T14:08:30.658Z"
   },
   {
    "duration": 6,
    "start_time": "2022-05-09T14:08:30.759Z"
   },
   {
    "duration": 6,
    "start_time": "2022-05-09T14:08:31.073Z"
   },
   {
    "duration": 14,
    "start_time": "2022-05-09T14:08:31.741Z"
   },
   {
    "duration": 11,
    "start_time": "2022-05-09T14:08:31.915Z"
   },
   {
    "duration": 5,
    "start_time": "2022-05-09T14:08:32.745Z"
   },
   {
    "duration": 6,
    "start_time": "2022-05-09T14:08:33.101Z"
   },
   {
    "duration": 5,
    "start_time": "2022-05-09T14:08:33.263Z"
   },
   {
    "duration": 15,
    "start_time": "2022-05-09T14:08:33.618Z"
   },
   {
    "duration": 12,
    "start_time": "2022-05-09T14:08:34.005Z"
   },
   {
    "duration": 5,
    "start_time": "2022-05-09T14:08:34.376Z"
   },
   {
    "duration": 20,
    "start_time": "2022-05-09T14:08:34.767Z"
   },
   {
    "duration": 610,
    "start_time": "2022-05-09T14:08:35.350Z"
   },
   {
    "duration": 300,
    "start_time": "2022-05-09T14:08:38.443Z"
   },
   {
    "duration": 404,
    "start_time": "2022-05-09T14:08:39.244Z"
   },
   {
    "duration": 339,
    "start_time": "2022-05-09T14:08:40.714Z"
   },
   {
    "duration": 422,
    "start_time": "2022-05-09T14:08:41.160Z"
   },
   {
    "duration": 188,
    "start_time": "2022-05-09T14:08:43.169Z"
   },
   {
    "duration": 5,
    "start_time": "2022-05-09T14:08:43.610Z"
   },
   {
    "duration": 238,
    "start_time": "2022-05-09T14:08:44.921Z"
   },
   {
    "duration": 110,
    "start_time": "2022-05-09T14:08:53.212Z"
   },
   {
    "duration": 175,
    "start_time": "2022-05-09T14:09:01.538Z"
   },
   {
    "duration": 6,
    "start_time": "2022-05-09T14:09:04.901Z"
   },
   {
    "duration": 233,
    "start_time": "2022-05-09T14:09:22.244Z"
   },
   {
    "duration": 1309,
    "start_time": "2022-05-09T14:09:30.376Z"
   },
   {
    "duration": 33,
    "start_time": "2022-05-09T14:09:31.687Z"
   },
   {
    "duration": 5,
    "start_time": "2022-05-09T14:09:31.721Z"
   },
   {
    "duration": 34,
    "start_time": "2022-05-09T14:09:31.728Z"
   },
   {
    "duration": 14,
    "start_time": "2022-05-09T14:09:31.763Z"
   },
   {
    "duration": 27,
    "start_time": "2022-05-09T14:09:31.779Z"
   },
   {
    "duration": 23,
    "start_time": "2022-05-09T14:09:31.808Z"
   },
   {
    "duration": 9,
    "start_time": "2022-05-09T14:09:31.833Z"
   },
   {
    "duration": 7,
    "start_time": "2022-05-09T14:09:31.843Z"
   },
   {
    "duration": 9,
    "start_time": "2022-05-09T14:09:31.852Z"
   },
   {
    "duration": 26,
    "start_time": "2022-05-09T14:09:31.862Z"
   },
   {
    "duration": 23,
    "start_time": "2022-05-09T14:09:31.893Z"
   },
   {
    "duration": 10,
    "start_time": "2022-05-09T14:09:31.919Z"
   },
   {
    "duration": 5,
    "start_time": "2022-05-09T14:09:32.199Z"
   },
   {
    "duration": 5,
    "start_time": "2022-05-09T14:09:32.359Z"
   },
   {
    "duration": 21,
    "start_time": "2022-05-09T14:09:32.684Z"
   },
   {
    "duration": 13,
    "start_time": "2022-05-09T14:09:33.019Z"
   },
   {
    "duration": 4,
    "start_time": "2022-05-09T14:09:33.376Z"
   },
   {
    "duration": 16,
    "start_time": "2022-05-09T14:09:33.736Z"
   },
   {
    "duration": 586,
    "start_time": "2022-05-09T14:09:34.297Z"
   },
   {
    "duration": 279,
    "start_time": "2022-05-09T14:09:35.200Z"
   },
   {
    "duration": 428,
    "start_time": "2022-05-09T14:09:36.273Z"
   },
   {
    "duration": 236,
    "start_time": "2022-05-09T14:09:37.278Z"
   },
   {
    "duration": 356,
    "start_time": "2022-05-09T14:09:37.674Z"
   },
   {
    "duration": 244,
    "start_time": "2022-05-09T14:09:38.838Z"
   },
   {
    "duration": 4,
    "start_time": "2022-05-09T14:09:39.875Z"
   },
   {
    "duration": 155,
    "start_time": "2022-05-09T14:09:40.824Z"
   },
   {
    "duration": 13,
    "start_time": "2022-05-09T14:09:52.171Z"
   },
   {
    "duration": 5,
    "start_time": "2022-05-09T14:10:48.871Z"
   },
   {
    "duration": 9,
    "start_time": "2022-05-09T14:10:55.627Z"
   },
   {
    "duration": 4,
    "start_time": "2022-05-09T14:10:59.558Z"
   },
   {
    "duration": 223,
    "start_time": "2022-05-09T14:13:29.463Z"
   },
   {
    "duration": 161,
    "start_time": "2022-05-09T14:17:22.692Z"
   },
   {
    "duration": 136,
    "start_time": "2022-05-09T14:19:55.588Z"
   },
   {
    "duration": 239,
    "start_time": "2022-05-09T14:19:58.410Z"
   },
   {
    "duration": 13,
    "start_time": "2022-05-09T14:20:00.112Z"
   },
   {
    "duration": 12,
    "start_time": "2022-05-09T14:20:02.037Z"
   },
   {
    "duration": 29,
    "start_time": "2022-05-09T14:20:04.357Z"
   },
   {
    "duration": 13,
    "start_time": "2022-05-09T14:20:06.020Z"
   },
   {
    "duration": 3,
    "start_time": "2022-05-09T14:20:07.131Z"
   },
   {
    "duration": 239,
    "start_time": "2022-05-09T14:21:57.976Z"
   },
   {
    "duration": 166,
    "start_time": "2022-05-09T14:22:01.860Z"
   },
   {
    "duration": 1190,
    "start_time": "2022-05-09T14:22:10.575Z"
   },
   {
    "duration": 32,
    "start_time": "2022-05-09T14:22:11.767Z"
   },
   {
    "duration": 6,
    "start_time": "2022-05-09T14:22:11.801Z"
   },
   {
    "duration": 36,
    "start_time": "2022-05-09T14:22:11.809Z"
   },
   {
    "duration": 13,
    "start_time": "2022-05-09T14:22:11.847Z"
   },
   {
    "duration": 10,
    "start_time": "2022-05-09T14:22:11.862Z"
   },
   {
    "duration": 12,
    "start_time": "2022-05-09T14:22:11.875Z"
   },
   {
    "duration": 6,
    "start_time": "2022-05-09T14:22:12.190Z"
   },
   {
    "duration": 5,
    "start_time": "2022-05-09T14:22:12.373Z"
   },
   {
    "duration": 6,
    "start_time": "2022-05-09T14:22:12.718Z"
   },
   {
    "duration": 14,
    "start_time": "2022-05-09T14:22:13.414Z"
   },
   {
    "duration": 13,
    "start_time": "2022-05-09T14:22:13.603Z"
   },
   {
    "duration": 5,
    "start_time": "2022-05-09T14:22:14.519Z"
   },
   {
    "duration": 6,
    "start_time": "2022-05-09T14:22:14.905Z"
   },
   {
    "duration": 5,
    "start_time": "2022-05-09T14:22:15.099Z"
   },
   {
    "duration": 14,
    "start_time": "2022-05-09T14:22:15.472Z"
   },
   {
    "duration": 12,
    "start_time": "2022-05-09T14:22:15.878Z"
   },
   {
    "duration": 5,
    "start_time": "2022-05-09T14:22:16.265Z"
   },
   {
    "duration": 20,
    "start_time": "2022-05-09T14:22:16.686Z"
   },
   {
    "duration": 608,
    "start_time": "2022-05-09T14:22:17.359Z"
   },
   {
    "duration": 326,
    "start_time": "2022-05-09T14:22:18.284Z"
   },
   {
    "duration": 365,
    "start_time": "2022-05-09T14:22:20.371Z"
   },
   {
    "duration": 249,
    "start_time": "2022-05-09T14:22:23.776Z"
   },
   {
    "duration": 434,
    "start_time": "2022-05-09T14:22:24.178Z"
   },
   {
    "duration": 212,
    "start_time": "2022-05-09T14:22:26.313Z"
   },
   {
    "duration": 5,
    "start_time": "2022-05-09T14:22:27.871Z"
   },
   {
    "duration": 238,
    "start_time": "2022-05-09T14:22:28.621Z"
   },
   {
    "duration": 4,
    "start_time": "2022-05-09T14:22:33.034Z"
   },
   {
    "duration": 238,
    "start_time": "2022-05-09T14:22:37.989Z"
   },
   {
    "duration": 254,
    "start_time": "2022-05-09T14:22:45.512Z"
   },
   {
    "duration": 16,
    "start_time": "2022-05-09T14:22:49.566Z"
   },
   {
    "duration": 198,
    "start_time": "2022-05-09T14:23:42.317Z"
   },
   {
    "duration": 158,
    "start_time": "2022-05-09T14:24:54.771Z"
   },
   {
    "duration": 12,
    "start_time": "2022-05-09T14:26:35.627Z"
   },
   {
    "duration": 11,
    "start_time": "2022-05-09T14:26:56.693Z"
   },
   {
    "duration": 5,
    "start_time": "2022-05-09T14:29:10.415Z"
   },
   {
    "duration": 4,
    "start_time": "2022-05-09T14:30:05.416Z"
   },
   {
    "duration": 310,
    "start_time": "2022-05-09T14:30:12.608Z"
   },
   {
    "duration": 6,
    "start_time": "2022-05-09T14:30:14.996Z"
   },
   {
    "duration": 5,
    "start_time": "2022-05-09T14:30:17.661Z"
   },
   {
    "duration": 222,
    "start_time": "2022-05-09T14:30:44.160Z"
   },
   {
    "duration": 15,
    "start_time": "2022-05-09T14:31:26.968Z"
   },
   {
    "duration": 15,
    "start_time": "2022-05-09T14:32:06.614Z"
   },
   {
    "duration": 9,
    "start_time": "2022-05-09T14:32:23.446Z"
   },
   {
    "duration": 6,
    "start_time": "2022-05-09T14:32:35.630Z"
   },
   {
    "duration": 6,
    "start_time": "2022-05-09T14:32:40.290Z"
   },
   {
    "duration": 11,
    "start_time": "2022-05-09T14:36:04.602Z"
   },
   {
    "duration": 6,
    "start_time": "2022-05-09T14:36:13.747Z"
   },
   {
    "duration": 4,
    "start_time": "2022-05-09T14:37:34.962Z"
   },
   {
    "duration": 11,
    "start_time": "2022-05-09T14:37:42.807Z"
   },
   {
    "duration": 5,
    "start_time": "2022-05-09T14:37:50.532Z"
   },
   {
    "duration": 4,
    "start_time": "2022-05-09T14:37:55.638Z"
   },
   {
    "duration": 112,
    "start_time": "2022-05-09T14:38:23.242Z"
   },
   {
    "duration": 116,
    "start_time": "2022-05-09T14:38:29.044Z"
   },
   {
    "duration": 5,
    "start_time": "2022-05-09T14:38:55.492Z"
   },
   {
    "duration": 8,
    "start_time": "2022-05-09T14:39:03.000Z"
   },
   {
    "duration": 14,
    "start_time": "2022-05-09T14:39:53.527Z"
   },
   {
    "duration": 30,
    "start_time": "2022-05-09T14:41:47.106Z"
   },
   {
    "duration": 1113,
    "start_time": "2022-05-09T14:41:58.060Z"
   },
   {
    "duration": 34,
    "start_time": "2022-05-09T14:41:59.175Z"
   },
   {
    "duration": 3,
    "start_time": "2022-05-09T14:41:59.211Z"
   },
   {
    "duration": 28,
    "start_time": "2022-05-09T14:41:59.217Z"
   },
   {
    "duration": 14,
    "start_time": "2022-05-09T14:41:59.246Z"
   },
   {
    "duration": 13,
    "start_time": "2022-05-09T14:41:59.261Z"
   },
   {
    "duration": 13,
    "start_time": "2022-05-09T14:41:59.398Z"
   },
   {
    "duration": 6,
    "start_time": "2022-05-09T14:41:59.783Z"
   },
   {
    "duration": 7,
    "start_time": "2022-05-09T14:41:59.996Z"
   },
   {
    "duration": 7,
    "start_time": "2022-05-09T14:42:00.401Z"
   },
   {
    "duration": 20,
    "start_time": "2022-05-09T14:42:01.196Z"
   },
   {
    "duration": 11,
    "start_time": "2022-05-09T14:42:01.406Z"
   },
   {
    "duration": 5,
    "start_time": "2022-05-09T14:42:09.657Z"
   },
   {
    "duration": 4,
    "start_time": "2022-05-09T14:42:10.072Z"
   },
   {
    "duration": 4,
    "start_time": "2022-05-09T14:42:10.225Z"
   },
   {
    "duration": 15,
    "start_time": "2022-05-09T14:42:10.607Z"
   },
   {
    "duration": 12,
    "start_time": "2022-05-09T14:42:10.963Z"
   },
   {
    "duration": 4,
    "start_time": "2022-05-09T14:42:11.339Z"
   },
   {
    "duration": 15,
    "start_time": "2022-05-09T14:42:11.714Z"
   },
   {
    "duration": 561,
    "start_time": "2022-05-09T14:42:12.301Z"
   },
   {
    "duration": 214,
    "start_time": "2022-05-09T14:42:13.122Z"
   },
   {
    "duration": 359,
    "start_time": "2022-05-09T14:42:13.771Z"
   },
   {
    "duration": 217,
    "start_time": "2022-05-09T14:42:14.653Z"
   },
   {
    "duration": 332,
    "start_time": "2022-05-09T14:42:15.101Z"
   },
   {
    "duration": 177,
    "start_time": "2022-05-09T14:42:16.071Z"
   },
   {
    "duration": 4,
    "start_time": "2022-05-09T14:42:16.578Z"
   },
   {
    "duration": 162,
    "start_time": "2022-05-09T14:42:17.242Z"
   },
   {
    "duration": 4,
    "start_time": "2022-05-09T14:42:18.416Z"
   },
   {
    "duration": 263,
    "start_time": "2022-05-09T14:42:19.156Z"
   },
   {
    "duration": 176,
    "start_time": "2022-05-09T14:42:25.587Z"
   },
   {
    "duration": 11,
    "start_time": "2022-05-09T14:42:27.924Z"
   },
   {
    "duration": 12,
    "start_time": "2022-05-09T14:42:29.594Z"
   },
   {
    "duration": 30,
    "start_time": "2022-05-09T14:42:35.051Z"
   },
   {
    "duration": 11,
    "start_time": "2022-05-09T14:43:57.212Z"
   },
   {
    "duration": 1136,
    "start_time": "2022-05-09T14:53:04.958Z"
   },
   {
    "duration": 31,
    "start_time": "2022-05-09T14:53:06.096Z"
   },
   {
    "duration": 3,
    "start_time": "2022-05-09T14:53:06.128Z"
   },
   {
    "duration": 29,
    "start_time": "2022-05-09T14:53:06.134Z"
   },
   {
    "duration": 14,
    "start_time": "2022-05-09T14:53:06.164Z"
   },
   {
    "duration": 10,
    "start_time": "2022-05-09T14:53:06.179Z"
   },
   {
    "duration": 25,
    "start_time": "2022-05-09T14:53:06.190Z"
   },
   {
    "duration": 10,
    "start_time": "2022-05-09T14:53:06.217Z"
   },
   {
    "duration": 6,
    "start_time": "2022-05-09T14:53:06.228Z"
   },
   {
    "duration": 8,
    "start_time": "2022-05-09T14:53:06.236Z"
   },
   {
    "duration": 14,
    "start_time": "2022-05-09T14:53:06.245Z"
   },
   {
    "duration": 11,
    "start_time": "2022-05-09T14:53:06.260Z"
   },
   {
    "duration": 22,
    "start_time": "2022-05-09T14:53:06.273Z"
   },
   {
    "duration": 21,
    "start_time": "2022-05-09T14:53:06.296Z"
   },
   {
    "duration": 9,
    "start_time": "2022-05-09T14:53:06.320Z"
   },
   {
    "duration": 24,
    "start_time": "2022-05-09T14:53:06.331Z"
   },
   {
    "duration": 11,
    "start_time": "2022-05-09T14:53:06.357Z"
   },
   {
    "duration": 5,
    "start_time": "2022-05-09T14:53:06.371Z"
   },
   {
    "duration": 41,
    "start_time": "2022-05-09T14:53:06.378Z"
   },
   {
    "duration": 571,
    "start_time": "2022-05-09T14:53:06.471Z"
   },
   {
    "duration": 239,
    "start_time": "2022-05-09T14:53:07.044Z"
   },
   {
    "duration": 340,
    "start_time": "2022-05-09T14:53:07.292Z"
   },
   {
    "duration": 239,
    "start_time": "2022-05-09T14:53:07.634Z"
   },
   {
    "duration": 346,
    "start_time": "2022-05-09T14:53:07.875Z"
   },
   {
    "duration": 293,
    "start_time": "2022-05-09T14:53:08.223Z"
   },
   {
    "duration": 4,
    "start_time": "2022-05-09T14:53:08.518Z"
   },
   {
    "duration": 182,
    "start_time": "2022-05-09T14:53:08.524Z"
   },
   {
    "duration": 6,
    "start_time": "2022-05-09T14:53:08.708Z"
   },
   {
    "duration": 350,
    "start_time": "2022-05-09T14:53:08.716Z"
   },
   {
    "duration": 154,
    "start_time": "2022-05-09T14:53:09.519Z"
   },
   {
    "duration": 11,
    "start_time": "2022-05-09T14:53:10.260Z"
   },
   {
    "duration": 11,
    "start_time": "2022-05-09T14:53:11.009Z"
   },
   {
    "duration": 35,
    "start_time": "2022-05-09T14:53:11.790Z"
   },
   {
    "duration": 11,
    "start_time": "2022-05-09T14:53:12.621Z"
   }
  ],
  "kernelspec": {
   "display_name": "Python 3 (ipykernel)",
   "language": "python",
   "name": "python3"
  },
  "language_info": {
   "codemirror_mode": {
    "name": "ipython",
    "version": 3
   },
   "file_extension": ".py",
   "mimetype": "text/x-python",
   "name": "python",
   "nbconvert_exporter": "python",
   "pygments_lexer": "ipython3",
   "version": "3.11.4"
  },
  "toc": {
   "base_numbering": 1,
   "nav_menu": {},
   "number_sections": false,
   "sideBar": true,
   "skip_h1_title": false,
   "title_cell": "Table of Contents",
   "title_sidebar": "Contents",
   "toc_cell": false,
   "toc_position": {},
   "toc_section_display": true,
   "toc_window_display": true
  }
 },
 "nbformat": 4,
 "nbformat_minor": 2
}
